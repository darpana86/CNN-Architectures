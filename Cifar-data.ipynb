{
 "cells": [
  {
   "cell_type": "code",
   "execution_count": 1,
   "metadata": {
    "collapsed": false
   },
   "outputs": [
    {
     "name": "stderr",
     "output_type": "stream",
     "text": [
      "Using gpu device 0: GeForce 820M (CNMeM is disabled, cuDNN not available)\n",
      "C:\\Users\\admin\\Anaconda2\\lib\\site-packages\\theano\\tensor\\signal\\downsample.py:6: UserWarning: downsample module has been moved to the theano.tensor.signal.pool module.\n",
      "  \"downsample module has been moved to the theano.tensor.signal.pool module.\")\n"
     ]
    }
   ],
   "source": [
    "from __future__ import print_function\n",
    "\n",
    "import sys\n",
    "import os\n",
    "import time\n",
    "from PIL import Image\n",
    "import numpy as np\n",
    "import theano\n",
    "import theano.tensor as T\n",
    "import cPickle as pickle\n",
    "import lasagne"
   ]
  },
  {
   "cell_type": "code",
   "execution_count": 2,
   "metadata": {
    "collapsed": true
   },
   "outputs": [],
   "source": [
    "def load_data(path):\n",
    "    x_train = np.zeros((50000, 3, 32, 32), dtype='uint8')\n",
    "    y_train = np.zeros((50000,), dtype=\"uint8\")\n",
    "\n",
    "    for i in range(1, 6):\n",
    "        data = unpickle(os.path.join(path, 'data_batch_' + str(i)))\n",
    "        images = data['data'].reshape(10000, 3, 32, 32)\n",
    "        labels = data['labels']\n",
    "        x_train[(i - 1) * 10000:i * 10000, :, :, :] = images\n",
    "        y_train[(i - 1) * 10000:i * 10000] = labels\n",
    "    x_train, x_val = x_train[:-10000], x_train[-10000:]\n",
    "    y_train, y_val = y_train[:-10000], y_train[-10000:]\n",
    "\n",
    "    test_data = unpickle(os.path.join(path, 'test_batch'))\n",
    "    x_test = test_data['data'].reshape(10000, 3, 32, 32)\n",
    "    y_test = np.array(test_data['labels'])\n",
    "\n",
    "    return x_train, y_train, x_val, y_val, x_test, y_test\n",
    " \n",
    "def unpickle(file):\n",
    "    f = open(file, 'rb')\n",
    "    dict = pickle.load(f)\n",
    "    f.close()\n",
    "    return dict"
   ]
  },
  {
   "cell_type": "code",
   "execution_count": 3,
   "metadata": {
    "collapsed": true
   },
   "outputs": [],
   "source": [
    "x_train, y_train, x_val, y_val, x_test, y_test=load_data(os.path.expanduser('F:/pandas-ex/mnist-test/cifar-10-batches-py'))"
   ]
  },
  {
   "cell_type": "code",
   "execution_count": 4,
   "metadata": {
    "collapsed": true
   },
   "outputs": [],
   "source": [
    "def build_cnn(input_var=None):\n",
    "    # Input layer, as usual:\n",
    "    network = lasagne.layers.InputLayer(shape=(None, 3, 32, 32),\n",
    "                                        input_var=input_var)\n",
    "    network = lasagne.layers.Conv2DLayer(\n",
    "            network, num_filters=16, filter_size=(5, 5),\n",
    "            stride=1, pad=2,\n",
    "            nonlinearity=lasagne.nonlinearities.rectify,\n",
    "            W=lasagne.init.GlorotUniform())\n",
    "\n",
    "    # Max-pooling layer of factor 2 in both dimensions:\n",
    "    network = lasagne.layers.MaxPool2DLayer(network, pool_size=(2, 2), stride=2)\n",
    "\n",
    "    # Another convolution with 32 5x5 kernels, and another 2x2 pooling:\n",
    "    network = lasagne.layers.Conv2DLayer(\n",
    "            network, num_filters=20, filter_size=(5, 5),\n",
    "            stride=1, pad=2,\n",
    "            nonlinearity=lasagne.nonlinearities.rectify)\n",
    "\n",
    "    network = lasagne.layers.MaxPool2DLayer(network, pool_size=(2, 2), stride=2)\n",
    "\n",
    "    network = lasagne.layers.Conv2DLayer(\n",
    "            network, num_filters=20, filter_size=(5, 5),\n",
    "            stride=1, pad=2,\n",
    "            nonlinearity=lasagne.nonlinearities.rectify)\n",
    "\n",
    "    network = lasagne.layers.MaxPool2DLayer(network, pool_size=(2, 2), stride=2)\n",
    "\n",
    "    # 10-unit output layer with 50% dropout on its inputs:\n",
    "    network = lasagne.layers.DenseLayer(\n",
    "            network,\n",
    "            num_units=10,\n",
    "            nonlinearity=lasagne.nonlinearities.softmax)\n",
    "\n",
    "    return network"
   ]
  },
  {
   "cell_type": "code",
   "execution_count": null,
   "metadata": {
    "collapsed": true
   },
   "outputs": [],
   "source": []
  },
  {
   "cell_type": "code",
   "execution_count": 5,
   "metadata": {
    "collapsed": true
   },
   "outputs": [],
   "source": [
    "def iterate_minibatches(inputs, targets, batchsize=4, shuffle=False):\n",
    "    assert len(inputs) == len(targets)\n",
    "    if shuffle:\n",
    "        indices = np.arange(len(inputs))\n",
    "        np.random.shuffle(indices)\n",
    "    for start_idx in range(0, len(inputs) - batchsize + 1, batchsize):\n",
    "        if shuffle:\n",
    "            excerpt = indices[start_idx:start_idx + batchsize]\n",
    "        else:\n",
    "            excerpt = slice(start_idx, start_idx + batchsize)\n",
    "        yield inputs[excerpt], targets[excerpt]"
   ]
  },
  {
   "cell_type": "code",
   "execution_count": null,
   "metadata": {
    "collapsed": true
   },
   "outputs": [],
   "source": []
  },
  {
   "cell_type": "code",
   "execution_count": 6,
   "metadata": {
    "collapsed": true
   },
   "outputs": [],
   "source": [
    "def main(model='cnn', num_epochs=100):\n",
    "    # Load the dataset\n",
    "    print(\"Loading data...\")\n",
    "\n",
    "    X_train, y_train, X_val, y_val, X_test, y_test = load_data(os.path.expanduser('F:/pandas-ex/mnist-test/cifar-10-batches-py'))\n",
    "\n",
    "\n",
    "    # Prepare Theano variables for inputs and targets\n",
    "    input_var = T.tensor4('inputs')\n",
    "    target_var = T.ivector('targets')\n",
    "\n",
    "    # Create neural network model (depending on first command line parameter)\n",
    "    print(\"Building model and compiling functions...\")\n",
    "    if model == 'cnn':\n",
    "        network = build_cnn(input_var)\n",
    "    else:\n",
    "        print(\"Unrecognized model type %r.\" % model)\n",
    "\n",
    "    # Create a loss expression for training, i.e., a scalar objective we want\n",
    "    # to minimize (for our multi-class problem, it is the cross-entropy loss):\n",
    "    prediction = lasagne.layers.get_output(network)\n",
    "    loss = lasagne.objectives.categorical_crossentropy(prediction, target_var)\n",
    "    loss = loss.mean()\n",
    "  \n",
    "    params = lasagne.layers.get_all_params(network, trainable=True)\n",
    "    updates = lasagne.updates.nesterov_momentum(\n",
    "            loss, params, learning_rate=0.01, momentum=0.9)\n",
    "\n",
    " \n",
    "    test_prediction = lasagne.layers.get_output(network, deterministic=True)\n",
    "    test_loss = lasagne.objectives.categorical_crossentropy(test_prediction,\n",
    "                                                            target_var)\n",
    "    test_loss = test_loss.mean()\n",
    "    # As a bonus, also create an expression for the classification accuracy:\n",
    "    test_acc = T.mean(T.eq(T.argmax(test_prediction, axis=1), target_var),\n",
    "                      dtype=theano.config.floatX)\n",
    "\n",
    "    # Compile a function performing a training step on a mini-batch (by giving\n",
    "    # the updates dictionary) and returning the corresponding training loss:\n",
    "    train_fn = theano.function([input_var, target_var], loss, updates=updates)\n",
    "\n",
    "    # Compile a second function computing the validation loss and accuracy:\n",
    "    val_fn = theano.function([input_var, target_var], [test_loss, test_acc])\n",
    "\n",
    "    # Finally, launch the training loop.\n",
    "    print(\"Starting training...\")\n",
    "    # We iterate over epochs:\n",
    "    for epoch in range(num_epochs):\n",
    "        # In each epoch, we do a full pass over the training data:\n",
    "        train_err = 0\n",
    "        train_batches = 0\n",
    "        start_time = time.time()\n",
    "        for batch in iterate_minibatches(X_train, y_train, 100, shuffle=True):\n",
    "            inputs, targets = batch\n",
    "            train_err += train_fn(inputs, targets)\n",
    "            train_batches += 1\n",
    "\n",
    "        # And a full pass over the validation data:\n",
    "        val_err = 0\n",
    "        val_acc = 0\n",
    "        val_batches = 0\n",
    "        for batch in iterate_minibatches(X_val, y_val, 10, shuffle=False):\n",
    "            inputs, targets = batch\n",
    "            err, acc = val_fn(inputs, targets)\n",
    "            val_err += err\n",
    "            val_acc += acc\n",
    "            val_batches += 1\n",
    "\n",
    "        # Then we print the results for this epoch:\n",
    "        print(\"Epoch {} of {} took {:.3f}s\".format(\n",
    "            epoch + 1, num_epochs, time.time() - start_time))\n",
    "        print(\"  training loss:\\t\\t{:.6f}\".format(train_err / train_batches))\n",
    "        print(\"  validation loss:\\t\\t{:.6f}\".format(val_err / val_batches))\n",
    "        print(\"  validation accuracy:\\t\\t{:.2f} %\".format(\n",
    "            val_acc / val_batches * 100))\n",
    "\n",
    "    # After training, we compute and print the test error:\n",
    "    test_err = 0\n",
    "    test_acc = 0\n",
    "    test_batches = 0\n",
    "    for batch in iterate_minibatches(X_test, y_test, 100, shuffle=False):\n",
    "        inputs, targets = batch\n",
    "        err, acc = val_fn(inputs, targets)\n",
    "        test_err += err\n",
    "        test_acc += acc\n",
    "        test_batches += 1\n",
    "    print(\"Final results:\")\n",
    "    print(\"  test loss:\\t\\t\\t{:.6f}\".format(test_err / test_batches))\n",
    "    print(\"  test accuracy:\\t\\t{:.2f} %\".format(\n",
    "        test_acc / test_batches * 100))\n",
    "\n",
    "    # Optionally, you could now dump the network weights to a file like this:\n",
    "    np.savez('cifar_weights-new.npz', *lasagne.layers.get_all_param_values(network))\n",
    "    #\n",
    "    # And load them again later on like this:\n",
    "    # with np.load('model.npz') as f:\n",
    "    #     param_values = [f['arr_%d' % i] for i in range(len(f.files))]\n",
    "    # lasagne.layers.set_all_param_values(network, param_values)"
   ]
  },
  {
   "cell_type": "code",
   "execution_count": 8,
   "metadata": {
    "collapsed": false
   },
   "outputs": [
    {
     "ename": "NameError",
     "evalue": "name 'network' is not defined",
     "output_type": "error",
     "traceback": [
      "\u001b[1;31m---------------------------------------------------------------------------\u001b[0m",
      "\u001b[1;31mNameError\u001b[0m                                 Traceback (most recent call last)",
      "\u001b[1;32m<ipython-input-8-8b2ed7709400>\u001b[0m in \u001b[0;36m<module>\u001b[1;34m()\u001b[0m\n\u001b[0;32m      1\u001b[0m \u001b[1;32mwith\u001b[0m \u001b[0mnp\u001b[0m\u001b[1;33m.\u001b[0m\u001b[0mload\u001b[0m\u001b[1;33m(\u001b[0m\u001b[1;34m'cifar_weights-new.npz'\u001b[0m\u001b[1;33m)\u001b[0m \u001b[1;32mas\u001b[0m \u001b[0mf\u001b[0m\u001b[1;33m:\u001b[0m\u001b[1;33m\u001b[0m\u001b[0m\n\u001b[0;32m      2\u001b[0m     \u001b[0mparam_values\u001b[0m \u001b[1;33m=\u001b[0m \u001b[1;33m[\u001b[0m\u001b[0mf\u001b[0m\u001b[1;33m[\u001b[0m\u001b[1;34m'arr_%d'\u001b[0m \u001b[1;33m%\u001b[0m \u001b[0mi\u001b[0m\u001b[1;33m]\u001b[0m \u001b[1;32mfor\u001b[0m \u001b[0mi\u001b[0m \u001b[1;32min\u001b[0m \u001b[0mrange\u001b[0m\u001b[1;33m(\u001b[0m\u001b[0mlen\u001b[0m\u001b[1;33m(\u001b[0m\u001b[0mf\u001b[0m\u001b[1;33m.\u001b[0m\u001b[0mfiles\u001b[0m\u001b[1;33m)\u001b[0m\u001b[1;33m)\u001b[0m\u001b[1;33m]\u001b[0m\u001b[1;33m\u001b[0m\u001b[0m\n\u001b[1;32m----> 3\u001b[1;33m     \u001b[0mlasagne\u001b[0m\u001b[1;33m.\u001b[0m\u001b[0mlayers\u001b[0m\u001b[1;33m.\u001b[0m\u001b[0mset_all_param_values\u001b[0m\u001b[1;33m(\u001b[0m\u001b[0mnetwork\u001b[0m\u001b[1;33m,\u001b[0m \u001b[0mparam_values\u001b[0m\u001b[1;33m)\u001b[0m\u001b[1;33m\u001b[0m\u001b[0m\n\u001b[0m",
      "\u001b[1;31mNameError\u001b[0m: name 'network' is not defined"
     ]
    }
   ],
   "source": [
    "with np.load('cifar_weights-new.npz') as f:\n",
    "    param_values = [f['arr_%d' % i] for i in range(len(f.files))]\n",
    "    lasagne.layers.set_all_param_values(network, param_values)"
   ]
  },
  {
   "cell_type": "code",
   "execution_count": 13,
   "metadata": {
    "collapsed": true
   },
   "outputs": [],
   "source": [
    "network=build_cnn()"
   ]
  },
  {
   "cell_type": "code",
   "execution_count": 14,
   "metadata": {
    "collapsed": true
   },
   "outputs": [],
   "source": [
    "with np.load('cifar_weights-new.npz') as f:\n",
    "    param_values = [f['arr_%d' % i] for i in range(len(f.files))]\n",
    "    lasagne.layers.set_all_param_values(network, param_values)"
   ]
  },
  {
   "cell_type": "code",
   "execution_count": 7,
   "metadata": {
    "collapsed": false
   },
   "outputs": [
    {
     "name": "stdout",
     "output_type": "stream",
     "text": [
      "Loading data...\n",
      "Building model and compiling functions..."
     ]
    },
    {
     "name": "stderr",
     "output_type": "stream",
     "text": [
      "DEBUG: nvcc STDOUT mod.cu\n",
      "   Creating library C:/Users/admin/AppData/Local/Theano/compiledir_Windows-8-6.2.9200-Intel64_Family_6_Model_69_Stepping_1_GenuineIntel-2.7.8-64/tmpxfcmfh/03ad6326ed42c8924f9c25bb41c2c592.lib and object C:/Users/admin/AppData/Local/Theano/compiledir_Windows-8-6.2.9200-Intel64_Family_6_Model_69_Stepping_1_GenuineIntel-2.7.8-64/tmpxfcmfh/03ad6326ed42c8924f9c25bb41c2c592.exp\n",
      "\n",
      "DEBUG: nvcc STDOUT mod.cu\n",
      "   Creating library C:/Users/admin/AppData/Local/Theano/compiledir_Windows-8-6.2.9200-Intel64_Family_6_Model_69_Stepping_1_GenuineIntel-2.7.8-64/tmpocundk/83722044baa691e622cc46115b5211dd.lib and object C:/Users/admin/AppData/Local/Theano/compiledir_Windows-8-6.2.9200-Intel64_Family_6_Model_69_Stepping_1_GenuineIntel-2.7.8-64/tmpocundk/83722044baa691e622cc46115b5211dd.exp\n",
      "\n",
      "DEBUG: nvcc STDOUT mod.cu\n",
      "   Creating library C:/Users/admin/AppData/Local/Theano/compiledir_Windows-8-6.2.9200-Intel64_Family_6_Model_69_Stepping_1_GenuineIntel-2.7.8-64/tmpm0jwxx/ac5b1d906b092840b7f45186604e3786.lib and object C:/Users/admin/AppData/Local/Theano/compiledir_Windows-8-6.2.9200-Intel64_Family_6_Model_69_Stepping_1_GenuineIntel-2.7.8-64/tmpm0jwxx/ac5b1d906b092840b7f45186604e3786.exp\n",
      "\n",
      "DEBUG: nvcc STDOUT mod.cu\n",
      "   Creating library C:/Users/admin/AppData/Local/Theano/compiledir_Windows-8-6.2.9200-Intel64_Family_6_Model_69_Stepping_1_GenuineIntel-2.7.8-64/tmpskuhhc/fe976a00f5ed9e8d24d0fcb4edc49e1c.lib and object C:/Users/admin/AppData/Local/Theano/compiledir_Windows-8-6.2.9200-Intel64_Family_6_Model_69_Stepping_1_GenuineIntel-2.7.8-64/tmpskuhhc/fe976a00f5ed9e8d24d0fcb4edc49e1c.exp\n",
      "\n",
      "DEBUG: nvcc STDOUT mod.cu\n",
      "   Creating library C:/Users/admin/AppData/Local/Theano/compiledir_Windows-8-6.2.9200-Intel64_Family_6_Model_69_Stepping_1_GenuineIntel-2.7.8-64/tmpnxwqm6/2fc918e941f13a2607f5af5262fa25c2.lib and object C:/Users/admin/AppData/Local/Theano/compiledir_Windows-8-6.2.9200-Intel64_Family_6_Model_69_Stepping_1_GenuineIntel-2.7.8-64/tmpnxwqm6/2fc918e941f13a2607f5af5262fa25c2.exp\n",
      "\n",
      "DEBUG: nvcc STDOUT mod.cu\n",
      "   Creating library C:/Users/admin/AppData/Local/Theano/compiledir_Windows-8-6.2.9200-Intel64_Family_6_Model_69_Stepping_1_GenuineIntel-2.7.8-64/tmp5ol_kt/6b39f67008a653b07cdccdf2dd95390e.lib and object C:/Users/admin/AppData/Local/Theano/compiledir_Windows-8-6.2.9200-Intel64_Family_6_Model_69_Stepping_1_GenuineIntel-2.7.8-64/tmp5ol_kt/6b39f67008a653b07cdccdf2dd95390e.exp\n",
      "\n",
      "DEBUG: nvcc STDOUT mod.cu\n",
      "   Creating library C:/Users/admin/AppData/Local/Theano/compiledir_Windows-8-6.2.9200-Intel64_Family_6_Model_69_Stepping_1_GenuineIntel-2.7.8-64/tmpbgojwe/3d70cbb939df1d1403da7ec43a15c606.lib and object C:/Users/admin/AppData/Local/Theano/compiledir_Windows-8-6.2.9200-Intel64_Family_6_Model_69_Stepping_1_GenuineIntel-2.7.8-64/tmpbgojwe/3d70cbb939df1d1403da7ec43a15c606.exp\n",
      "\n",
      "DEBUG: nvcc STDOUT mod.cu\n",
      "   Creating library C:/Users/admin/AppData/Local/Theano/compiledir_Windows-8-6.2.9200-Intel64_Family_6_Model_69_Stepping_1_GenuineIntel-2.7.8-64/tmpb6z8nt/6572b1935b475b9bdf183b26320de416.lib and object C:/Users/admin/AppData/Local/Theano/compiledir_Windows-8-6.2.9200-Intel64_Family_6_Model_69_Stepping_1_GenuineIntel-2.7.8-64/tmpb6z8nt/6572b1935b475b9bdf183b26320de416.exp\n",
      "\n",
      "DEBUG: nvcc STDOUT mod.cu\n",
      "   Creating library C:/Users/admin/AppData/Local/Theano/compiledir_Windows-8-6.2.9200-Intel64_Family_6_Model_69_Stepping_1_GenuineIntel-2.7.8-64/tmpaouco8/b784bced998f04b698263105937d8864.lib and object C:/Users/admin/AppData/Local/Theano/compiledir_Windows-8-6.2.9200-Intel64_Family_6_Model_69_Stepping_1_GenuineIntel-2.7.8-64/tmpaouco8/b784bced998f04b698263105937d8864.exp\n",
      "\n",
      "DEBUG: nvcc STDOUT mod.cu\n",
      "   Creating library C:/Users/admin/AppData/Local/Theano/compiledir_Windows-8-6.2.9200-Intel64_Family_6_Model_69_Stepping_1_GenuineIntel-2.7.8-64/tmpr5mevi/b6403b4ab5aa7127a4aff38df58bcc66.lib and object C:/Users/admin/AppData/Local/Theano/compiledir_Windows-8-6.2.9200-Intel64_Family_6_Model_69_Stepping_1_GenuineIntel-2.7.8-64/tmpr5mevi/b6403b4ab5aa7127a4aff38df58bcc66.exp\n",
      "\n",
      "DEBUG: nvcc STDOUT mod.cu\n",
      "   Creating library C:/Users/admin/AppData/Local/Theano/compiledir_Windows-8-6.2.9200-Intel64_Family_6_Model_69_Stepping_1_GenuineIntel-2.7.8-64/tmpao8b9u/7975318a719922177826bdf99d71a237.lib and object C:/Users/admin/AppData/Local/Theano/compiledir_Windows-8-6.2.9200-Intel64_Family_6_Model_69_Stepping_1_GenuineIntel-2.7.8-64/tmpao8b9u/7975318a719922177826bdf99d71a237.exp\n",
      "\n",
      "DEBUG: nvcc STDOUT mod.cu\n",
      "   Creating library C:/Users/admin/AppData/Local/Theano/compiledir_Windows-8-6.2.9200-Intel64_Family_6_Model_69_Stepping_1_GenuineIntel-2.7.8-64/tmpcw9mu4/2fbd0dbb0f1aaf2f52c00ee6212ca0ad.lib and object C:/Users/admin/AppData/Local/Theano/compiledir_Windows-8-6.2.9200-Intel64_Family_6_Model_69_Stepping_1_GenuineIntel-2.7.8-64/tmpcw9mu4/2fbd0dbb0f1aaf2f52c00ee6212ca0ad.exp\n",
      "\n",
      "DEBUG: nvcc STDOUT mod.cu\n",
      "   Creating library C:/Users/admin/AppData/Local/Theano/compiledir_Windows-8-6.2.9200-Intel64_Family_6_Model_69_Stepping_1_GenuineIntel-2.7.8-64/tmpu0_q7j/458e2f1e03be03a175e663ecc5f61718.lib and object C:/Users/admin/AppData/Local/Theano/compiledir_Windows-8-6.2.9200-Intel64_Family_6_Model_69_Stepping_1_GenuineIntel-2.7.8-64/tmpu0_q7j/458e2f1e03be03a175e663ecc5f61718.exp\n",
      "\n",
      "DEBUG: nvcc STDOUT mod.cu\n",
      "   Creating library C:/Users/admin/AppData/Local/Theano/compiledir_Windows-8-6.2.9200-Intel64_Family_6_Model_69_Stepping_1_GenuineIntel-2.7.8-64/tmpjduerw/b29cfbbb7fbec8d9b9e9ef69a58f3bfe.lib and object C:/Users/admin/AppData/Local/Theano/compiledir_Windows-8-6.2.9200-Intel64_Family_6_Model_69_Stepping_1_GenuineIntel-2.7.8-64/tmpjduerw/b29cfbbb7fbec8d9b9e9ef69a58f3bfe.exp\n",
      "\n",
      "DEBUG: nvcc STDOUT mod.cu\n",
      "   Creating library C:/Users/admin/AppData/Local/Theano/compiledir_Windows-8-6.2.9200-Intel64_Family_6_Model_69_Stepping_1_GenuineIntel-2.7.8-64/tmphtgcgr/2d451f336d218e4e417684f2280fc53e.lib and object C:/Users/admin/AppData/Local/Theano/compiledir_Windows-8-6.2.9200-Intel64_Family_6_Model_69_Stepping_1_GenuineIntel-2.7.8-64/tmphtgcgr/2d451f336d218e4e417684f2280fc53e.exp\n",
      "\n",
      "DEBUG: nvcc STDOUT mod.cu\n",
      "   Creating library C:/Users/admin/AppData/Local/Theano/compiledir_Windows-8-6.2.9200-Intel64_Family_6_Model_69_Stepping_1_GenuineIntel-2.7.8-64/tmp9iviux/eebc6fddd0653d2c7d23b8414ad82512.lib and object C:/Users/admin/AppData/Local/Theano/compiledir_Windows-8-6.2.9200-Intel64_Family_6_Model_69_Stepping_1_GenuineIntel-2.7.8-64/tmp9iviux/eebc6fddd0653d2c7d23b8414ad82512.exp\n",
      "\n",
      "DEBUG: nvcc STDOUT mod.cu\n",
      "   Creating library C:/Users/admin/AppData/Local/Theano/compiledir_Windows-8-6.2.9200-Intel64_Family_6_Model_69_Stepping_1_GenuineIntel-2.7.8-64/tmpbb_dlk/d7ed86de72d2497639aa578d1298725a.lib and object C:/Users/admin/AppData/Local/Theano/compiledir_Windows-8-6.2.9200-Intel64_Family_6_Model_69_Stepping_1_GenuineIntel-2.7.8-64/tmpbb_dlk/d7ed86de72d2497639aa578d1298725a.exp\n",
      "\n",
      "DEBUG: nvcc STDOUT mod.cu\n",
      "   Creating library C:/Users/admin/AppData/Local/Theano/compiledir_Windows-8-6.2.9200-Intel64_Family_6_Model_69_Stepping_1_GenuineIntel-2.7.8-64/tmp2ykude/6d20cebc5d982b9eb8c07ca90d244cfe.lib and object C:/Users/admin/AppData/Local/Theano/compiledir_Windows-8-6.2.9200-Intel64_Family_6_Model_69_Stepping_1_GenuineIntel-2.7.8-64/tmp2ykude/6d20cebc5d982b9eb8c07ca90d244cfe.exp\n",
      "\n",
      "DEBUG: nvcc STDOUT mod.cu\n",
      "   Creating library C:/Users/admin/AppData/Local/Theano/compiledir_Windows-8-6.2.9200-Intel64_Family_6_Model_69_Stepping_1_GenuineIntel-2.7.8-64/tmpfx3svn/0ba6429348d2b489f0136b29ba022c86.lib and object C:/Users/admin/AppData/Local/Theano/compiledir_Windows-8-6.2.9200-Intel64_Family_6_Model_69_Stepping_1_GenuineIntel-2.7.8-64/tmpfx3svn/0ba6429348d2b489f0136b29ba022c86.exp\n",
      "\n",
      "DEBUG: nvcc STDOUT mod.cu\n",
      "   Creating library C:/Users/admin/AppData/Local/Theano/compiledir_Windows-8-6.2.9200-Intel64_Family_6_Model_69_Stepping_1_GenuineIntel-2.7.8-64/tmplyf9ut/67924c4741b5efdb5734a301896c39ea.lib and object C:/Users/admin/AppData/Local/Theano/compiledir_Windows-8-6.2.9200-Intel64_Family_6_Model_69_Stepping_1_GenuineIntel-2.7.8-64/tmplyf9ut/67924c4741b5efdb5734a301896c39ea.exp\n",
      "\n",
      "DEBUG: nvcc STDOUT mod.cu\n",
      "   Creating library C:/Users/admin/AppData/Local/Theano/compiledir_Windows-8-6.2.9200-Intel64_Family_6_Model_69_Stepping_1_GenuineIntel-2.7.8-64/tmpulbuo5/ef0c5e8f10ff463d7fedebb941cf28f9.lib and object C:/Users/admin/AppData/Local/Theano/compiledir_Windows-8-6.2.9200-Intel64_Family_6_Model_69_Stepping_1_GenuineIntel-2.7.8-64/tmpulbuo5/ef0c5e8f10ff463d7fedebb941cf28f9.exp\n",
      "\n",
      "DEBUG: nvcc STDOUT mod.cu\n",
      "   Creating library C:/Users/admin/AppData/Local/Theano/compiledir_Windows-8-6.2.9200-Intel64_Family_6_Model_69_Stepping_1_GenuineIntel-2.7.8-64/tmp2bytzw/c64a538825efa178bde086627b5f162e.lib and object C:/Users/admin/AppData/Local/Theano/compiledir_Windows-8-6.2.9200-Intel64_Family_6_Model_69_Stepping_1_GenuineIntel-2.7.8-64/tmp2bytzw/c64a538825efa178bde086627b5f162e.exp\n",
      "\n",
      "DEBUG: nvcc STDOUT mod.cu\n",
      "   Creating library C:/Users/admin/AppData/Local/Theano/compiledir_Windows-8-6.2.9200-Intel64_Family_6_Model_69_Stepping_1_GenuineIntel-2.7.8-64/tmplrr05e/26170ee18e5a4d0960dc9739b18c1879.lib and object C:/Users/admin/AppData/Local/Theano/compiledir_Windows-8-6.2.9200-Intel64_Family_6_Model_69_Stepping_1_GenuineIntel-2.7.8-64/tmplrr05e/26170ee18e5a4d0960dc9739b18c1879.exp\n",
      "\n",
      "DEBUG: nvcc STDOUT mod.cu\n",
      "   Creating library C:/Users/admin/AppData/Local/Theano/compiledir_Windows-8-6.2.9200-Intel64_Family_6_Model_69_Stepping_1_GenuineIntel-2.7.8-64/tmp4r7q4j/3a99c8ced582ce769ff4ae59675690ad.lib and object C:/Users/admin/AppData/Local/Theano/compiledir_Windows-8-6.2.9200-Intel64_Family_6_Model_69_Stepping_1_GenuineIntel-2.7.8-64/tmp4r7q4j/3a99c8ced582ce769ff4ae59675690ad.exp\n",
      "\n",
      "DEBUG: nvcc STDOUT mod.cu\n",
      "   Creating library C:/Users/admin/AppData/Local/Theano/compiledir_Windows-8-6.2.9200-Intel64_Family_6_Model_69_Stepping_1_GenuineIntel-2.7.8-64/tmp6xovlu/7b9194df6ecb741739c4cd0c2fec38e1.lib and object C:/Users/admin/AppData/Local/Theano/compiledir_Windows-8-6.2.9200-Intel64_Family_6_Model_69_Stepping_1_GenuineIntel-2.7.8-64/tmp6xovlu/7b9194df6ecb741739c4cd0c2fec38e1.exp\n",
      "\n",
      "DEBUG: nvcc STDOUT mod.cu\n",
      "   Creating library C:/Users/admin/AppData/Local/Theano/compiledir_Windows-8-6.2.9200-Intel64_Family_6_Model_69_Stepping_1_GenuineIntel-2.7.8-64/tmp_d48sx/a0f13865323b3f560994c0b42c9a9968.lib and object C:/Users/admin/AppData/Local/Theano/compiledir_Windows-8-6.2.9200-Intel64_Family_6_Model_69_Stepping_1_GenuineIntel-2.7.8-64/tmp_d48sx/a0f13865323b3f560994c0b42c9a9968.exp\n",
      "\n",
      "DEBUG: nvcc STDOUT mod.cu\n",
      "   Creating library C:/Users/admin/AppData/Local/Theano/compiledir_Windows-8-6.2.9200-Intel64_Family_6_Model_69_Stepping_1_GenuineIntel-2.7.8-64/tmpepary1/dc5053f6d6b95ce8c631ed82b44516c1.lib and object C:/Users/admin/AppData/Local/Theano/compiledir_Windows-8-6.2.9200-Intel64_Family_6_Model_69_Stepping_1_GenuineIntel-2.7.8-64/tmpepary1/dc5053f6d6b95ce8c631ed82b44516c1.exp\n",
      "\n",
      "DEBUG: nvcc STDOUT mod.cu\n",
      "   Creating library C:/Users/admin/AppData/Local/Theano/compiledir_Windows-8-6.2.9200-Intel64_Family_6_Model_69_Stepping_1_GenuineIntel-2.7.8-64/tmpx2hvne/571060205f96c596c75eada5266acc2c.lib and object C:/Users/admin/AppData/Local/Theano/compiledir_Windows-8-6.2.9200-Intel64_Family_6_Model_69_Stepping_1_GenuineIntel-2.7.8-64/tmpx2hvne/571060205f96c596c75eada5266acc2c.exp\n",
      "\n",
      "DEBUG: nvcc STDOUT mod.cu\n",
      "   Creating library C:/Users/admin/AppData/Local/Theano/compiledir_Windows-8-6.2.9200-Intel64_Family_6_Model_69_Stepping_1_GenuineIntel-2.7.8-64/tmpvj3f52/d694c51cbacc850520bf3a82ead4e118.lib and object C:/Users/admin/AppData/Local/Theano/compiledir_Windows-8-6.2.9200-Intel64_Family_6_Model_69_Stepping_1_GenuineIntel-2.7.8-64/tmpvj3f52/d694c51cbacc850520bf3a82ead4e118.exp\n",
      "\n",
      "DEBUG: nvcc STDOUT mod.cu\n",
      "   Creating library C:/Users/admin/AppData/Local/Theano/compiledir_Windows-8-6.2.9200-Intel64_Family_6_Model_69_Stepping_1_GenuineIntel-2.7.8-64/tmpmwtfq5/88ecb6161eae0c76d11f8193a8fa6855.lib and object C:/Users/admin/AppData/Local/Theano/compiledir_Windows-8-6.2.9200-Intel64_Family_6_Model_69_Stepping_1_GenuineIntel-2.7.8-64/tmpmwtfq5/88ecb6161eae0c76d11f8193a8fa6855.exp\n",
      "\n",
      "DEBUG: nvcc STDOUT mod.cu\n",
      "   Creating library C:/Users/admin/AppData/Local/Theano/compiledir_Windows-8-6.2.9200-Intel64_Family_6_Model_69_Stepping_1_GenuineIntel-2.7.8-64/tmp6z9q5g/fe201ab92e82dea264af67126603370d.lib and object C:/Users/admin/AppData/Local/Theano/compiledir_Windows-8-6.2.9200-Intel64_Family_6_Model_69_Stepping_1_GenuineIntel-2.7.8-64/tmp6z9q5g/fe201ab92e82dea264af67126603370d.exp\n",
      "\n",
      "DEBUG: nvcc STDOUT mod.cu\n",
      "   Creating library C:/Users/admin/AppData/Local/Theano/compiledir_Windows-8-6.2.9200-Intel64_Family_6_Model_69_Stepping_1_GenuineIntel-2.7.8-64/tmpeewvyj/40279ab08392ff106d216094969a7145.lib and object C:/Users/admin/AppData/Local/Theano/compiledir_Windows-8-6.2.9200-Intel64_Family_6_Model_69_Stepping_1_GenuineIntel-2.7.8-64/tmpeewvyj/40279ab08392ff106d216094969a7145.exp\n",
      "\n",
      "DEBUG: nvcc STDOUT mod.cu\n",
      "   Creating library C:/Users/admin/AppData/Local/Theano/compiledir_Windows-8-6.2.9200-Intel64_Family_6_Model_69_Stepping_1_GenuineIntel-2.7.8-64/tmpkfhj_n/3ceb107ca573f4c17aa2c218c2dd1993.lib and object C:/Users/admin/AppData/Local/Theano/compiledir_Windows-8-6.2.9200-Intel64_Family_6_Model_69_Stepping_1_GenuineIntel-2.7.8-64/tmpkfhj_n/3ceb107ca573f4c17aa2c218c2dd1993.exp\n",
      "\n",
      "DEBUG: nvcc STDOUT mod.cu\n",
      "   Creating library C:/Users/admin/AppData/Local/Theano/compiledir_Windows-8-6.2.9200-Intel64_Family_6_Model_69_Stepping_1_GenuineIntel-2.7.8-64/tmprnfbu7/2025a528a960a61115b8c061db2eb5f7.lib and object C:/Users/admin/AppData/Local/Theano/compiledir_Windows-8-6.2.9200-Intel64_Family_6_Model_69_Stepping_1_GenuineIntel-2.7.8-64/tmprnfbu7/2025a528a960a61115b8c061db2eb5f7.exp\n",
      "\n",
      "DEBUG: nvcc STDOUT mod.cu\n",
      "   Creating library C:/Users/admin/AppData/Local/Theano/compiledir_Windows-8-6.2.9200-Intel64_Family_6_Model_69_Stepping_1_GenuineIntel-2.7.8-64/tmpgo9_2p/72d488e1ce87087231570c9de51b6ff2.lib and object C:/Users/admin/AppData/Local/Theano/compiledir_Windows-8-6.2.9200-Intel64_Family_6_Model_69_Stepping_1_GenuineIntel-2.7.8-64/tmpgo9_2p/72d488e1ce87087231570c9de51b6ff2.exp\n",
      "\n",
      "DEBUG: nvcc STDOUT mod.cu\n",
      "   Creating library C:/Users/admin/AppData/Local/Theano/compiledir_Windows-8-6.2.9200-Intel64_Family_6_Model_69_Stepping_1_GenuineIntel-2.7.8-64/tmpordtbk/e5bbd442a2aba797868c02f2ee3eb43e.lib and object C:/Users/admin/AppData/Local/Theano/compiledir_Windows-8-6.2.9200-Intel64_Family_6_Model_69_Stepping_1_GenuineIntel-2.7.8-64/tmpordtbk/e5bbd442a2aba797868c02f2ee3eb43e.exp\n",
      "\n",
      "DEBUG: nvcc STDOUT mod.cu\n",
      "   Creating library C:/Users/admin/AppData/Local/Theano/compiledir_Windows-8-6.2.9200-Intel64_Family_6_Model_69_Stepping_1_GenuineIntel-2.7.8-64/tmpc9e2vo/3519e5e26c39b560d466c91db1d106d9.lib and object C:/Users/admin/AppData/Local/Theano/compiledir_Windows-8-6.2.9200-Intel64_Family_6_Model_69_Stepping_1_GenuineIntel-2.7.8-64/tmpc9e2vo/3519e5e26c39b560d466c91db1d106d9.exp\n",
      "\n",
      "DEBUG: nvcc STDOUT mod.cu\n",
      "   Creating library C:/Users/admin/AppData/Local/Theano/compiledir_Windows-8-6.2.9200-Intel64_Family_6_Model_69_Stepping_1_GenuineIntel-2.7.8-64/tmp_pd9yc/ef08219515a996721e5cf3ab862769f2.lib and object C:/Users/admin/AppData/Local/Theano/compiledir_Windows-8-6.2.9200-Intel64_Family_6_Model_69_Stepping_1_GenuineIntel-2.7.8-64/tmp_pd9yc/ef08219515a996721e5cf3ab862769f2.exp\n",
      "\n",
      "DEBUG: nvcc STDOUT mod.cu\n",
      "   Creating library C:/Users/admin/AppData/Local/Theano/compiledir_Windows-8-6.2.9200-Intel64_Family_6_Model_69_Stepping_1_GenuineIntel-2.7.8-64/tmpesbwun/c3a66bc68624a918953f5a787c7e93d2.lib and object C:/Users/admin/AppData/Local/Theano/compiledir_Windows-8-6.2.9200-Intel64_Family_6_Model_69_Stepping_1_GenuineIntel-2.7.8-64/tmpesbwun/c3a66bc68624a918953f5a787c7e93d2.exp\n",
      "\n",
      "DEBUG: nvcc STDOUT mod.cu\n",
      "   Creating library C:/Users/admin/AppData/Local/Theano/compiledir_Windows-8-6.2.9200-Intel64_Family_6_Model_69_Stepping_1_GenuineIntel-2.7.8-64/tmpdove1l/0fc034dbec612b803827189790059c14.lib and object C:/Users/admin/AppData/Local/Theano/compiledir_Windows-8-6.2.9200-Intel64_Family_6_Model_69_Stepping_1_GenuineIntel-2.7.8-64/tmpdove1l/0fc034dbec612b803827189790059c14.exp\n",
      "\n",
      "DEBUG: nvcc STDOUT mod.cu\n",
      "   Creating library C:/Users/admin/AppData/Local/Theano/compiledir_Windows-8-6.2.9200-Intel64_Family_6_Model_69_Stepping_1_GenuineIntel-2.7.8-64/tmpnxj7uw/f2ee06bff11b25804cdbae536337656d.lib and object C:/Users/admin/AppData/Local/Theano/compiledir_Windows-8-6.2.9200-Intel64_Family_6_Model_69_Stepping_1_GenuineIntel-2.7.8-64/tmpnxj7uw/f2ee06bff11b25804cdbae536337656d.exp\n",
      "\n",
      "DEBUG: nvcc STDOUT mod.cu\n",
      "   Creating library C:/Users/admin/AppData/Local/Theano/compiledir_Windows-8-6.2.9200-Intel64_Family_6_Model_69_Stepping_1_GenuineIntel-2.7.8-64/tmp5yc9ny/832a676357de672775b71b252401c82a.lib and object C:/Users/admin/AppData/Local/Theano/compiledir_Windows-8-6.2.9200-Intel64_Family_6_Model_69_Stepping_1_GenuineIntel-2.7.8-64/tmp5yc9ny/832a676357de672775b71b252401c82a.exp\n",
      "\n",
      "DEBUG: nvcc STDOUT mod.cu\n",
      "   Creating library C:/Users/admin/AppData/Local/Theano/compiledir_Windows-8-6.2.9200-Intel64_Family_6_Model_69_Stepping_1_GenuineIntel-2.7.8-64/tmpsb9c5y/43b5b4249bc5674a805775c998b37336.lib and object C:/Users/admin/AppData/Local/Theano/compiledir_Windows-8-6.2.9200-Intel64_Family_6_Model_69_Stepping_1_GenuineIntel-2.7.8-64/tmpsb9c5y/43b5b4249bc5674a805775c998b37336.exp\n",
      "\n",
      "DEBUG: nvcc STDOUT"
     ]
    },
    {
     "name": "stdout",
     "output_type": "stream",
     "text": [
      "\n",
      "Starting training...\n",
      "Epoch 1 of 100 took 67.068s\n",
      "  training loss:\t\t122.950407\n",
      "  validation loss:\t\t2.303074\n",
      "  validation accuracy:\t\t9.77 %\n",
      "Epoch 2 of 100 took 77.363s\n",
      "  training loss:\t\t2.302857\n",
      "  validation loss:\t\t2.302888\n",
      "  validation accuracy:\t\t9.77 %\n",
      "Epoch 3 of 100 took 78.493s\n",
      "  training loss:\t\t2.302889\n",
      "  validation loss:\t\t2.302941\n",
      "  validation accuracy:\t\t9.52 %\n",
      "Epoch 4 of 100 took 78.575s\n",
      "  training loss:\t\t2.302877\n",
      "  validation loss:\t\t2.303080\n",
      "  validation accuracy:\t\t9.80 %\n",
      "Epoch 5 of 100 took 78.980s\n",
      "  training loss:\t\t2.302857\n",
      "  validation loss:\t\t2.302641\n",
      "  validation accuracy:\t\t10.25 %\n",
      "Epoch 6 of 100 took 78.944s\n",
      "  training loss:\t\t2.302977\n",
      "  validation loss:\t\t2.302932\n",
      "  validation accuracy:\t\t9.77 %\n",
      "Epoch 7 of 100 took 78.087s\n",
      "  training loss:\t\t2.302952\n",
      "  validation loss:\t\t2.302796\n",
      "  validation accuracy:\t\t9.52 %\n",
      "Epoch 8 of 100 took 79.950s\n",
      "  training loss:\t\t2.302883\n",
      "  validation loss:\t\t2.302693\n",
      "  validation accuracy:\t\t10.14 %\n",
      "Epoch 9 of 100 took 78.215s\n",
      "  training loss:\t\t2.302924\n",
      "  validation loss:\t\t2.302774\n",
      "  validation accuracy:\t\t9.97 %\n",
      "Epoch 10 of 100 took 79.230s\n",
      "  training loss:\t\t2.302941\n",
      "  validation loss:\t\t2.302781\n",
      "  validation accuracy:\t\t9.52 %\n",
      "Epoch 11 of 100 took 78.434s\n",
      "  training loss:\t\t2.302885\n",
      "  validation loss:\t\t2.302953\n",
      "  validation accuracy:\t\t9.80 %\n",
      "Epoch 12 of 100 took 80.015s\n",
      "  training loss:\t\t2.302887\n",
      "  validation loss:\t\t2.302789\n",
      "  validation accuracy:\t\t9.80 %\n",
      "Epoch 13 of 100 took 79.506s\n",
      "  training loss:\t\t2.302861\n",
      "  validation loss:\t\t2.303027\n",
      "  validation accuracy:\t\t10.16 %\n",
      "Epoch 14 of 100 took 80.931s\n",
      "  training loss:\t\t2.302931\n",
      "  validation loss:\t\t2.302637\n",
      "  validation accuracy:\t\t10.22 %\n",
      "Epoch 15 of 100 took 78.773s\n",
      "  training loss:\t\t2.302856\n",
      "  validation loss:\t\t2.303109\n",
      "  validation accuracy:\t\t9.97 %\n",
      "Epoch 16 of 100 took 80.539s\n",
      "  training loss:\t\t2.302891\n",
      "  validation loss:\t\t2.302685\n",
      "  validation accuracy:\t\t10.14 %\n",
      "Epoch 17 of 100 took 78.570s\n",
      "  training loss:\t\t2.302852\n",
      "  validation loss:\t\t2.302976\n",
      "  validation accuracy:\t\t9.77 %\n",
      "Epoch 18 of 100 took 78.497s\n",
      "  training loss:\t\t2.302876\n",
      "  validation loss:\t\t2.302761\n",
      "  validation accuracy:\t\t9.80 %\n",
      "Epoch 19 of 100 took 79.884s\n",
      "  training loss:\t\t2.302883\n",
      "  validation loss:\t\t2.302869\n",
      "  validation accuracy:\t\t9.52 %\n",
      "Epoch 20 of 100 took 78.404s\n",
      "  training loss:\t\t2.302892\n",
      "  validation loss:\t\t2.302972\n",
      "  validation accuracy:\t\t9.77 %\n",
      "Epoch 21 of 100 took 80.051s\n",
      "  training loss:\t\t2.302900\n",
      "  validation loss:\t\t2.302929\n",
      "  validation accuracy:\t\t9.77 %\n",
      "Epoch 22 of 100 took 77.381s\n",
      "  training loss:\t\t2.302849\n",
      "  validation loss:\t\t2.303014\n",
      "  validation accuracy:\t\t9.52 %\n",
      "Epoch 23 of 100 took 79.737s\n",
      "  training loss:\t\t2.302937\n",
      "  validation loss:\t\t2.302910\n",
      "  validation accuracy:\t\t9.52 %\n",
      "Epoch 24 of 100 took 80.644s\n",
      "  training loss:\t\t2.302920\n",
      "  validation loss:\t\t2.302988\n",
      "  validation accuracy:\t\t9.52 %\n",
      "Epoch 25 of 100 took 79.567s\n",
      "  training loss:\t\t2.302865\n",
      "  validation loss:\t\t2.302795\n",
      "  validation accuracy:\t\t10.14 %\n",
      "Epoch 26 of 100 took 81.190s\n",
      "  training loss:\t\t2.302903\n",
      "  validation loss:\t\t2.302623\n",
      "  validation accuracy:\t\t10.03 %\n",
      "Epoch 27 of 100 took 80.960s\n",
      "  training loss:\t\t2.302890\n",
      "  validation loss:\t\t2.302953\n",
      "  validation accuracy:\t\t9.77 %\n",
      "Epoch 28 of 100 took 80.356s\n",
      "  training loss:\t\t2.302861\n",
      "  validation loss:\t\t2.302796\n",
      "  validation accuracy:\t\t9.77 %\n",
      "Epoch 29 of 100 took 80.099s\n",
      "  training loss:\t\t2.302918\n",
      "  validation loss:\t\t2.302688\n",
      "  validation accuracy:\t\t10.16 %\n",
      "Epoch 30 of 100 took 81.027s\n",
      "  training loss:\t\t2.302910\n",
      "  validation loss:\t\t2.302600\n",
      "  validation accuracy:\t\t10.14 %\n",
      "Epoch 31 of 100 took 80.617s\n",
      "  training loss:\t\t2.302813\n",
      "  validation loss:\t\t2.303224\n",
      "  validation accuracy:\t\t9.97 %\n",
      "Epoch 32 of 100 took 80.306s\n",
      "  training loss:\t\t2.302881\n",
      "  validation loss:\t\t2.302844\n",
      "  validation accuracy:\t\t9.97 %\n",
      "Epoch 33 of 100 took 79.550s\n",
      "  training loss:\t\t2.302882\n",
      "  validation loss:\t\t2.302927\n",
      "  validation accuracy:\t\t9.52 %\n",
      "Epoch 34 of 100 took 80.866s\n",
      "  training loss:\t\t2.302904\n",
      "  validation loss:\t\t2.302964\n",
      "  validation accuracy:\t\t9.77 %\n",
      "Epoch 35 of 100 took 80.766s\n",
      "  training loss:\t\t2.302901\n",
      "  validation loss:\t\t2.302860\n",
      "  validation accuracy:\t\t10.14 %\n",
      "Epoch 36 of 100 took 78.495s\n",
      "  training loss:\t\t2.302865\n",
      "  validation loss:\t\t2.302934\n",
      "  validation accuracy:\t\t10.14 %\n",
      "Epoch 37 of 100 took 79.988s\n",
      "  training loss:\t\t2.302890\n",
      "  validation loss:\t\t2.302691\n",
      "  validation accuracy:\t\t10.25 %\n",
      "Epoch 38 of 100 took 78.444s\n",
      "  training loss:\t\t2.302866\n",
      "  validation loss:\t\t2.302836\n",
      "  validation accuracy:\t\t9.77 %\n",
      "Epoch 39 of 100 took 78.769s\n",
      "  training loss:\t\t2.302887\n",
      "  validation loss:\t\t2.302839\n",
      "  validation accuracy:\t\t9.52 %\n",
      "Epoch 40 of 100 took 80.072s\n",
      "  training loss:\t\t2.302850\n",
      "  validation loss:\t\t2.302647\n",
      "  validation accuracy:\t\t10.25 %\n",
      "Epoch 41 of 100 took 80.034s\n",
      "  training loss:\t\t2.302857\n",
      "  validation loss:\t\t2.302778\n",
      "  validation accuracy:\t\t10.03 %\n",
      "Epoch 42 of 100 took 78.280s\n",
      "  training loss:\t\t2.302885\n",
      "  validation loss:\t\t2.302753\n",
      "  validation accuracy:\t\t9.52 %\n",
      "Epoch 43 of 100 took 80.585s\n",
      "  training loss:\t\t2.302877\n",
      "  validation loss:\t\t2.303046\n",
      "  validation accuracy:\t\t9.52 %\n",
      "Epoch 44 of 100 took 80.870s\n",
      "  training loss:\t\t2.302855\n",
      "  validation loss:\t\t2.302689\n",
      "  validation accuracy:\t\t9.80 %\n",
      "Epoch 45 of 100 took 80.976s\n",
      "  training loss:\t\t2.302940\n",
      "  validation loss:\t\t2.302740\n",
      "  validation accuracy:\t\t9.80 %\n",
      "Epoch 46 of 100 took 79.404s\n",
      "  training loss:\t\t2.302885\n",
      "  validation loss:\t\t2.302734\n",
      "  validation accuracy:\t\t9.97 %\n",
      "Epoch 47 of 100 took 80.917s\n",
      "  training loss:\t\t2.302884\n",
      "  validation loss:\t\t2.302685\n",
      "  validation accuracy:\t\t10.03 %\n",
      "Epoch 48 of 100 took 80.699s\n",
      "  training loss:\t\t2.302879\n",
      "  validation loss:\t\t2.302806\n",
      "  validation accuracy:\t\t9.77 %\n",
      "Epoch 49 of 100 took 80.812s\n",
      "  training loss:\t\t2.302784\n",
      "  validation loss:\t\t2.303069\n",
      "  validation accuracy:\t\t9.97 %\n",
      "Epoch 50 of 100 took 80.673s\n",
      "  training loss:\t\t2.302889\n",
      "  validation loss:\t\t2.302775\n",
      "  validation accuracy:\t\t9.77 %\n",
      "Epoch 51 of 100 took 79.519s\n",
      "  training loss:\t\t2.302859\n",
      "  validation loss:\t\t2.302900\n",
      "  validation accuracy:\t\t9.80 %\n",
      "Epoch 52 of 100 took 80.724s\n",
      "  training loss:\t\t2.302827\n",
      "  validation loss:\t\t2.302884\n",
      "  validation accuracy:\t\t10.22 %\n",
      "Epoch 53 of 100 took 80.800s\n",
      "  training loss:\t\t2.302903\n",
      "  validation loss:\t\t2.302777\n",
      "  validation accuracy:\t\t10.25 %\n",
      "Epoch 54 of 100 took 81.018s\n",
      "  training loss:\t\t2.302873\n",
      "  validation loss:\t\t2.303113\n",
      "  validation accuracy:\t\t9.80 %\n",
      "Epoch 55 of 100 took 79.569s\n",
      "  training loss:\t\t2.302906\n",
      "  validation loss:\t\t2.302603\n",
      "  validation accuracy:\t\t10.25 %\n",
      "Epoch 56 of 100 took 80.936s\n",
      "  training loss:\t\t2.302841\n",
      "  validation loss:\t\t2.302874\n",
      "  validation accuracy:\t\t10.03 %\n",
      "Epoch 57 of 100 took 80.945s\n",
      "  training loss:\t\t2.302902\n",
      "  validation loss:\t\t2.302850\n",
      "  validation accuracy:\t\t10.25 %\n",
      "Epoch 58 of 100 took 81.031s\n",
      "  training loss:\t\t2.302898\n",
      "  validation loss:\t\t2.302816\n",
      "  validation accuracy:\t\t9.77 %\n",
      "Epoch 59 of 100 took 80.945s\n",
      "  training loss:\t\t2.302809\n",
      "  validation loss:\t\t2.302918\n",
      "  validation accuracy:\t\t10.16 %\n",
      "Epoch 60 of 100 took 79.134s\n",
      "  training loss:\t\t2.302922\n",
      "  validation loss:\t\t2.302579\n",
      "  validation accuracy:\t\t10.14 %\n",
      "Epoch 61 of 100 took 76.793s\n",
      "  training loss:\t\t2.302890\n",
      "  validation loss:\t\t2.302835\n",
      "  validation accuracy:\t\t9.80 %\n",
      "Epoch 62 of 100 took 79.569s\n",
      "  training loss:\t\t2.302892\n",
      "  validation loss:\t\t2.302858\n",
      "  validation accuracy:\t\t9.80 %\n",
      "Epoch 63 of 100 took 76.730s\n",
      "  training loss:\t\t2.302910\n",
      "  validation loss:\t\t2.302747\n",
      "  validation accuracy:\t\t9.80 %\n",
      "Epoch 64 of 100 took 79.908s\n",
      "  training loss:\t\t2.302880\n",
      "  validation loss:\t\t2.302588\n",
      "  validation accuracy:\t\t10.22 %\n",
      "Epoch 65 of 100 took 77.111s\n",
      "  training loss:\t\t2.302871\n",
      "  validation loss:\t\t2.302852\n",
      "  validation accuracy:\t\t9.52 %\n",
      "Epoch 66 of 100 took 79.612s\n",
      "  training loss:\t\t2.302816\n",
      "  validation loss:\t\t2.302812\n",
      "  validation accuracy:\t\t10.25 %\n",
      "Epoch 67 of 100 took 78.527s\n",
      "  training loss:\t\t2.302815\n",
      "  validation loss:\t\t2.302672\n",
      "  validation accuracy:\t\t9.77 %\n",
      "Epoch 68 of 100 took 80.334s\n",
      "  training loss:\t\t2.302901\n",
      "  validation loss:\t\t2.302846\n",
      "  validation accuracy:\t\t9.52 %\n",
      "Epoch 69 of 100 took 80.080s\n",
      "  training loss:\t\t2.302834\n",
      "  validation loss:\t\t2.302962\n",
      "  validation accuracy:\t\t9.52 %\n",
      "Epoch 70 of 100 took 80.166s\n",
      "  training loss:\t\t2.302873\n",
      "  validation loss:\t\t2.302626\n",
      "  validation accuracy:\t\t10.16 %\n",
      "Epoch 71 of 100 took 79.895s\n",
      "  training loss:\t\t2.302937\n",
      "  validation loss:\t\t2.302649\n",
      "  validation accuracy:\t\t9.80 %\n",
      "Epoch 72 of 100 took 78.149s\n",
      "  training loss:\t\t2.302833\n",
      "  validation loss:\t\t2.302953\n",
      "  validation accuracy:\t\t9.52 %\n",
      "Epoch 73 of 100 took 80.038s\n",
      "  training loss:\t\t2.302858\n",
      "  validation loss:\t\t2.302720\n",
      "  validation accuracy:\t\t10.14 %\n",
      "Epoch 74 of 100 took 78.613s\n",
      "  training loss:\t\t2.302851\n",
      "  validation loss:\t\t2.303105\n",
      "  validation accuracy:\t\t9.52 %\n",
      "Epoch 75 of 100 took 80.085s\n",
      "  training loss:\t\t2.302902\n",
      "  validation loss:\t\t2.302952\n",
      "  validation accuracy:\t\t9.52 %\n",
      "Epoch 76 of 100 took 77.894s\n",
      "  training loss:\t\t2.302867\n",
      "  validation loss:\t\t2.302935\n",
      "  validation accuracy:\t\t10.03 %\n",
      "Epoch 77 of 100 took 79.251s\n",
      "  training loss:\t\t2.302941\n",
      "  validation loss:\t\t2.302796\n",
      "  validation accuracy:\t\t9.77 %\n",
      "Epoch 78 of 100 took 80.162s\n",
      "  training loss:\t\t2.302916\n",
      "  validation loss:\t\t2.302769\n",
      "  validation accuracy:\t\t9.80 %\n",
      "Epoch 79 of 100 took 80.024s\n",
      "  training loss:\t\t2.302874\n",
      "  validation loss:\t\t2.302754\n",
      "  validation accuracy:\t\t10.03 %\n",
      "Epoch 80 of 100 took 78.614s\n",
      "  training loss:\t\t2.302874\n",
      "  validation loss:\t\t2.302771\n",
      "  validation accuracy:\t\t9.80 %\n",
      "Epoch 81 of 100 took 80.622s\n",
      "  training loss:\t\t2.302879\n",
      "  validation loss:\t\t2.302989\n",
      "  validation accuracy:\t\t9.52 %\n",
      "Epoch 82 of 100 took 81.046s\n",
      "  training loss:\t\t2.302803\n",
      "  validation loss:\t\t2.302515\n",
      "  validation accuracy:\t\t10.16 %\n",
      "Epoch 83 of 100 took 79.723s\n",
      "  training loss:\t\t2.302918\n",
      "  validation loss:\t\t2.302783\n",
      "  validation accuracy:\t\t9.77 %\n",
      "Epoch 84 of 100 took 81.177s\n",
      "  training loss:\t\t2.302889\n",
      "  validation loss:\t\t2.302775\n",
      "  validation accuracy:\t\t9.77 %\n",
      "Epoch 85 of 100 took 80.289s\n",
      "  training loss:\t\t2.302838\n",
      "  validation loss:\t\t2.302763\n",
      "  validation accuracy:\t\t10.03 %\n",
      "Epoch 86 of 100 took 80.094s\n",
      "  training loss:\t\t2.302835\n",
      "  validation loss:\t\t2.303183\n",
      "  validation accuracy:\t\t9.77 %\n",
      "Epoch 87 of 100 took 79.520s\n",
      "  training loss:\t\t2.302904\n",
      "  validation loss:\t\t2.302954\n",
      "  validation accuracy:\t\t9.77 %\n",
      "Epoch 88 of 100 took 78.839s\n",
      "  training loss:\t\t2.302848\n",
      "  validation loss:\t\t2.302771\n",
      "  validation accuracy:\t\t10.25 %\n",
      "Epoch 89 of 100 took 80.384s\n",
      "  training loss:\t\t2.302860\n",
      "  validation loss:\t\t2.302773\n",
      "  validation accuracy:\t\t10.25 %\n",
      "Epoch 90 of 100 took 80.174s\n",
      "  training loss:\t\t2.302880\n",
      "  validation loss:\t\t2.302817\n",
      "  validation accuracy:\t\t9.77 %\n",
      "Epoch 91 of 100 took 79.957s\n",
      "  training loss:\t\t2.302886\n",
      "  validation loss:\t\t2.302752\n",
      "  validation accuracy:\t\t9.77 %\n",
      "Epoch 92 of 100 took 80.514s\n",
      "  training loss:\t\t2.302935\n",
      "  validation loss:\t\t2.302548\n",
      "  validation accuracy:\t\t10.22 %\n",
      "Epoch 93 of 100 took 81.038s\n",
      "  training loss:\t\t2.302851\n",
      "  validation loss:\t\t2.302926\n",
      "  validation accuracy:\t\t9.52 %\n",
      "Epoch 94 of 100 took 80.804s\n",
      "  training loss:\t\t2.302887\n",
      "  validation loss:\t\t2.302763\n",
      "  validation accuracy:\t\t9.52 %\n",
      "Epoch 95 of 100 took 80.763s\n",
      "  training loss:\t\t2.302884\n",
      "  validation loss:\t\t2.302986\n",
      "  validation accuracy:\t\t9.52 %\n",
      "Epoch 96 of 100 took 81.003s\n",
      "  training loss:\t\t2.302890\n",
      "  validation loss:\t\t2.302761\n",
      "  validation accuracy:\t\t9.52 %\n",
      "Epoch 97 of 100 took 80.855s\n",
      "  training loss:\t\t2.302841\n",
      "  validation loss:\t\t2.303176\n",
      "  validation accuracy:\t\t9.52 %\n",
      "Epoch 98 of 100 took 80.872s\n",
      "  training loss:\t\t2.302844\n",
      "  validation loss:\t\t2.302777\n",
      "  validation accuracy:\t\t9.77 %\n",
      "Epoch 99 of 100 took 80.895s\n",
      "  training loss:\t\t2.302899\n",
      "  validation loss:\t\t2.302838\n",
      "  validation accuracy:\t\t9.77 %\n",
      "Epoch 100 of 100 took 80.210s\n",
      "  training loss:\t\t2.302866\n",
      "  validation loss:\t\t2.302799\n",
      "  validation accuracy:\t\t10.14 %\n",
      "Final results:\n",
      "  test loss:\t\t\t2.302693\n",
      "  test accuracy:\t\t10.00 %\n"
     ]
    },
    {
     "name": "stderr",
     "output_type": "stream",
     "text": [
      " mod.cu\r\n",
      "   Creating library C:/Users/admin/AppData/Local/Theano/compiledir_Windows-8-6.2.9200-Intel64_Family_6_Model_69_Stepping_1_GenuineIntel-2.7.8-64/tmpkpu5sn/898656a16df74943c0ae74947599b14c.lib and object C:/Users/admin/AppData/Local/Theano/compiledir_Windows-8-6.2.9200-Intel64_Family_6_Model_69_Stepping_1_GenuineIntel-2.7.8-64/tmpkpu5sn/898656a16df74943c0ae74947599b14c.exp\r\n",
      "\n"
     ]
    }
   ],
   "source": [
    "main(model='cnn', num_epochs=100)"
   ]
  },
  {
   "cell_type": "code",
   "execution_count": null,
   "metadata": {
    "collapsed": true
   },
   "outputs": [],
   "source": []
  },
  {
   "cell_type": "code",
   "execution_count": 8,
   "metadata": {
    "collapsed": false
   },
   "outputs": [
    {
     "ename": "NameError",
     "evalue": "name 'network' is not defined",
     "output_type": "error",
     "traceback": [
      "\u001b[1;31m---------------------------------------------------------------------------\u001b[0m",
      "\u001b[1;31mNameError\u001b[0m                                 Traceback (most recent call last)",
      "\u001b[1;32m<ipython-input-8-c85ea7f889e0>\u001b[0m in \u001b[0;36m<module>\u001b[1;34m()\u001b[0m\n\u001b[1;32m----> 1\u001b[1;33m \u001b[0mtrain_loss\u001b[0m \u001b[1;33m=\u001b[0m \u001b[0mnp\u001b[0m\u001b[1;33m.\u001b[0m\u001b[0marray\u001b[0m\u001b[1;33m(\u001b[0m\u001b[1;33m[\u001b[0m\u001b[0mi\u001b[0m\u001b[1;33m[\u001b[0m\u001b[1;34m\"train_loss\"\u001b[0m\u001b[1;33m]\u001b[0m \u001b[1;32mfor\u001b[0m \u001b[0mi\u001b[0m \u001b[1;32min\u001b[0m \u001b[0mnetwork\u001b[0m\u001b[1;33m.\u001b[0m\u001b[0mtrain_history_\u001b[0m\u001b[1;33m]\u001b[0m\u001b[1;33m)\u001b[0m\u001b[1;33m\u001b[0m\u001b[0m\n\u001b[0m\u001b[0;32m      2\u001b[0m \u001b[0mvalid_loss\u001b[0m \u001b[1;33m=\u001b[0m \u001b[0mnp\u001b[0m\u001b[1;33m.\u001b[0m\u001b[0marray\u001b[0m\u001b[1;33m(\u001b[0m\u001b[1;33m[\u001b[0m\u001b[0mi\u001b[0m\u001b[1;33m[\u001b[0m\u001b[1;34m\"valid_loss\"\u001b[0m\u001b[1;33m]\u001b[0m \u001b[1;32mfor\u001b[0m \u001b[0mi\u001b[0m \u001b[1;32min\u001b[0m \u001b[0mnetwork\u001b[0m\u001b[1;33m.\u001b[0m\u001b[0mtrain_history_\u001b[0m\u001b[1;33m]\u001b[0m\u001b[1;33m)\u001b[0m\u001b[1;33m\u001b[0m\u001b[0m\n\u001b[0;32m      3\u001b[0m \u001b[0mpyplot\u001b[0m\u001b[1;33m.\u001b[0m\u001b[0mplot\u001b[0m\u001b[1;33m(\u001b[0m\u001b[0mtrain_loss\u001b[0m\u001b[1;33m,\u001b[0m \u001b[0mlinewidth\u001b[0m\u001b[1;33m=\u001b[0m\u001b[1;36m3\u001b[0m\u001b[1;33m,\u001b[0m \u001b[0mlabel\u001b[0m\u001b[1;33m=\u001b[0m\u001b[1;34m\"train\"\u001b[0m\u001b[1;33m)\u001b[0m\u001b[1;33m\u001b[0m\u001b[0m\n\u001b[0;32m      4\u001b[0m \u001b[0mpyplot\u001b[0m\u001b[1;33m.\u001b[0m\u001b[0mplot\u001b[0m\u001b[1;33m(\u001b[0m\u001b[0mvalid_loss\u001b[0m\u001b[1;33m,\u001b[0m \u001b[0mlinewidth\u001b[0m\u001b[1;33m=\u001b[0m\u001b[1;36m3\u001b[0m\u001b[1;33m,\u001b[0m \u001b[0mlabel\u001b[0m\u001b[1;33m=\u001b[0m\u001b[1;34m\"valid\"\u001b[0m\u001b[1;33m)\u001b[0m\u001b[1;33m\u001b[0m\u001b[0m\n\u001b[0;32m      5\u001b[0m \u001b[0mpyplot\u001b[0m\u001b[1;33m.\u001b[0m\u001b[0mgrid\u001b[0m\u001b[1;33m(\u001b[0m\u001b[1;33m)\u001b[0m\u001b[1;33m\u001b[0m\u001b[0m\n",
      "\u001b[1;31mNameError\u001b[0m: name 'network' is not defined"
     ]
    }
   ],
   "source": [
    "train_loss = np.array([i[\"train_loss\"] for i in network.train_history_])\n",
    "valid_loss = np.array([i[\"valid_loss\"] for i in network.train_history_])\n",
    "pyplot.plot(train_loss, linewidth=3, label=\"train\")\n",
    "pyplot.plot(valid_loss, linewidth=3, label=\"valid\")\n",
    "pyplot.grid()\n",
    "pyplot.legend()\n",
    "pyplot.xlabel(\"epoch\")\n",
    "pyplot.ylabel(\"loss\")\n",
    "pyplot.ylim(1e-3, 1e-2)\n",
    "pyplot.yscale(\"log\")\n",
    "pyplot.show()"
   ]
  },
  {
   "cell_type": "code",
   "execution_count": 11,
   "metadata": {
    "collapsed": false
   },
   "outputs": [
    {
     "ename": "NameError",
     "evalue": "name 'network' is not defined",
     "output_type": "error",
     "traceback": [
      "\u001b[1;31m---------------------------------------------------------------------------\u001b[0m",
      "\u001b[1;31mNameError\u001b[0m                                 Traceback (most recent call last)",
      "\u001b[1;32m<ipython-input-11-bb42d932adde>\u001b[0m in \u001b[0;36m<module>\u001b[1;34m()\u001b[0m\n\u001b[1;32m----> 1\u001b[1;33m \u001b[0mnetwork\u001b[0m\u001b[1;33m.\u001b[0m\u001b[0mtrain_histroy_1\u001b[0m\u001b[1;33m\u001b[0m\u001b[0m\n\u001b[0m",
      "\u001b[1;31mNameError\u001b[0m: name 'network' is not defined"
     ]
    }
   ],
   "source": [
    "network.train_histroy_1"
   ]
  },
  {
   "cell_type": "code",
   "execution_count": null,
   "metadata": {
    "collapsed": true
   },
   "outputs": [],
   "source": []
  },
  {
   "cell_type": "code",
   "execution_count": null,
   "metadata": {
    "collapsed": true
   },
   "outputs": [],
   "source": []
  },
  {
   "cell_type": "code",
   "execution_count": null,
   "metadata": {
    "collapsed": true
   },
   "outputs": [],
   "source": []
  },
  {
   "cell_type": "code",
   "execution_count": 11,
   "metadata": {
    "collapsed": false
   },
   "outputs": [],
   "source": []
  },
  {
   "cell_type": "code",
   "execution_count": null,
   "metadata": {
    "collapsed": true
   },
   "outputs": [],
   "source": []
  },
  {
   "cell_type": "code",
   "execution_count": 10,
   "metadata": {
    "collapsed": false
   },
   "outputs": [
    {
     "name": "stdout",
     "output_type": "stream",
     "text": [
      "Loading data...\n",
      "Building model and compiling functions...\n",
      "Starting training...\n",
      "Epoch 1 of 10 took 86.326s\n",
      "  training loss:\t\t6.093847\n",
      "  validation loss:\t\t2.302898\n",
      "  validation accuracy:\t\t9.77 %\n",
      "Epoch 2 of 10 took 83.410s\n",
      "  training loss:\t\t2.302851\n",
      "  validation loss:\t\t2.302641\n",
      "  validation accuracy:\t\t10.16 %\n",
      "Epoch 3 of 10 took 84.026s\n",
      "  training loss:\t\t2.302920\n",
      "  validation loss:\t\t2.302696\n",
      "  validation accuracy:\t\t9.78 %\n",
      "Epoch 4 of 10 took 86.760s\n",
      "  training loss:\t\t2.302929\n",
      "  validation loss:\t\t2.302615\n",
      "  validation accuracy:\t\t9.77 %\n",
      "Epoch 5 of 10 took 88.910s\n",
      "  training loss:\t\t2.302889\n",
      "  validation loss:\t\t2.302672\n",
      "  validation accuracy:\t\t10.25 %\n",
      "Epoch 6 of 10 took 86.742s\n",
      "  training loss:\t\t2.302839\n",
      "  validation loss:\t\t2.302621\n",
      "  validation accuracy:\t\t10.22 %\n",
      "Epoch 7 of 10 took 88.988s\n",
      "  training loss:\t\t2.302880\n",
      "  validation loss:\t\t2.302754\n",
      "  validation accuracy:\t\t9.78 %\n",
      "Epoch 8 of 10 took 89.165s\n",
      "  training loss:\t\t2.302870\n",
      "  validation loss:\t\t2.302770\n",
      "  validation accuracy:\t\t9.52 %\n",
      "Epoch 9 of 10 took 95.525s\n",
      "  training loss:\t\t2.302858\n",
      "  validation loss:\t\t2.302933\n",
      "  validation accuracy:\t\t9.53 %\n",
      "Epoch 10 of 10 took 82.211s\n",
      "  training loss:\t\t2.302673\n",
      "  validation loss:\t\t2.297459\n",
      "  validation accuracy:\t\t11.02 %\n",
      "Final results:\n",
      "  test loss:\t\t\t2.298146\n",
      "  test accuracy:\t\t10.52 %\n"
     ]
    },
    {
     "name": "stderr",
     "output_type": "stream",
     "text": [
      "DEBUG: nvcc STDOUT mod.cu\r\n",
      "   Creating library C:/Users/admin/AppData/Local/Theano/compiledir_Windows-8-6.2.9200-Intel64_Family_6_Model_69_Stepping_1_GenuineIntel-2.7.8-64/tmpdqhpst/3d70cbb939df1d1403da7ec43a15c606.lib and object C:/Users/admin/AppData/Local/Theano/compiledir_Windows-8-6.2.9200-Intel64_Family_6_Model_69_Stepping_1_GenuineIntel-2.7.8-64/tmpdqhpst/3d70cbb939df1d1403da7ec43a15c606.exp\r\n",
      "\n"
     ]
    }
   ],
   "source": [
    "\n",
    "\n"
   ]
  },
  {
   "cell_type": "code",
   "execution_count": 24,
   "metadata": {
    "collapsed": true
   },
   "outputs": [],
   "source": [
    "%matplotlib inline\n",
    "import matplotlib.pyplot as plt\n",
    "def displayImage(image):\n",
    "    img=np.ascontiguousarray(image.transpose(1,2,0))\n",
    "    img = Image.fromarray(img, 'RGB')\n",
    "    plt.imshow(img)\n",
    "    plt.show()"
   ]
  },
  {
   "cell_type": "code",
   "execution_count": null,
   "metadata": {
    "collapsed": true
   },
   "outputs": [],
   "source": []
  },
  {
   "cell_type": "code",
   "execution_count": 25,
   "metadata": {
    "collapsed": false
   },
   "outputs": [
    {
     "data": {
      "image/png": "[encoded data removed]",
      "text/plain": [
       "<matplotlib.figure.Figure at 0x2db6ceb8>"
      ]
     },
     "metadata": {},
     "output_type": "display_data"
    }
   ],
   "source": [
    "displayImage(x_train[112])"
   ]
  },
  {
   "cell_type": "code",
   "execution_count": 28,
   "metadata": {
    "collapsed": false
   },
   "outputs": [
    {
     "data": {
      "image/png": "[encoded data removed]",
      "text/plain": [
       "<matplotlib.figure.Figure at 0x280206a0>"
      ]
     },
     "metadata": {},
     "output_type": "display_data"
    }
   ],
   "source": [
    "displayImage(x_val[12])"
   ]
  },
  {
   "cell_type": "code",
   "execution_count": 29,
   "metadata": {
    "collapsed": false
   },
   "outputs": [
    {
     "data": {
      "text/plain": [
       "0"
      ]
     },
     "execution_count": 29,
     "metadata": {},
     "output_type": "execute_result"
    }
   ],
   "source": [
    "y_val[12]"
   ]
  },
  {
   "cell_type": "code",
   "execution_count": 30,
   "metadata": {
    "collapsed": false
   },
   "outputs": [
    {
     "data": {
      "text/plain": [
       "1"
      ]
     },
     "execution_count": 30,
     "metadata": {},
     "output_type": "execute_result"
    }
   ],
   "source": [
    "y_val[13]"
   ]
  },
  {
   "cell_type": "code",
   "execution_count": 31,
   "metadata": {
    "collapsed": false
   },
   "outputs": [
    {
     "data": {
      "image/png": "[encoded data removed]",
      "text/plain": [
       "<matplotlib.figure.Figure at 0x2e0bcef0>"
      ]
     },
     "metadata": {},
     "output_type": "display_data"
    }
   ],
   "source": [
    "displayImage(x_val[3])"
   ]
  },
  {
   "cell_type": "code",
   "execution_count": 10,
   "metadata": {
    "collapsed": false
   },
   "outputs": [
    {
     "ename": "NameError",
     "evalue": "name 'NeuralNet' is not defined",
     "output_type": "error",
     "traceback": [
      "\u001b[1;31m---------------------------------------------------------------------------\u001b[0m",
      "\u001b[1;31mNameError\u001b[0m                                 Traceback (most recent call last)",
      "\u001b[1;32m<ipython-input-10-1f239459df28>\u001b[0m in \u001b[0;36m<module>\u001b[1;34m()\u001b[0m\n\u001b[1;32m----> 1\u001b[1;33m net2 = NeuralNet(\n\u001b[0m\u001b[0;32m      2\u001b[0m     layers=[\n\u001b[0;32m      3\u001b[0m         \u001b[1;33m(\u001b[0m\u001b[1;34m'input'\u001b[0m\u001b[1;33m,\u001b[0m \u001b[0mlayers\u001b[0m\u001b[1;33m.\u001b[0m\u001b[0mInputLayer\u001b[0m\u001b[1;33m)\u001b[0m\u001b[1;33m,\u001b[0m\u001b[1;33m\u001b[0m\u001b[0m\n\u001b[0;32m      4\u001b[0m         \u001b[1;33m(\u001b[0m\u001b[1;34m'conv1'\u001b[0m\u001b[1;33m,\u001b[0m \u001b[0mlayers\u001b[0m\u001b[1;33m.\u001b[0m\u001b[0mConv2DLayer\u001b[0m\u001b[1;33m)\u001b[0m\u001b[1;33m,\u001b[0m\u001b[1;33m\u001b[0m\u001b[0m\n\u001b[0;32m      5\u001b[0m         \u001b[1;33m(\u001b[0m\u001b[1;34m'pool1'\u001b[0m\u001b[1;33m,\u001b[0m \u001b[0mlayers\u001b[0m\u001b[1;33m.\u001b[0m\u001b[0mMaxPool2DLayer\u001b[0m\u001b[1;33m)\u001b[0m\u001b[1;33m,\u001b[0m\u001b[1;33m\u001b[0m\u001b[0m\n",
      "\u001b[1;31mNameError\u001b[0m: name 'NeuralNet' is not defined"
     ]
    }
   ],
   "source": [
    "net2 = NeuralNet(\n",
    "    layers=[\n",
    "        ('input', layers.InputLayer),\n",
    "        ('conv1', layers.Conv2DLayer),\n",
    "        ('pool1', layers.MaxPool2DLayer),\n",
    "        ('conv2', layers.Conv2DLayer),\n",
    "        ('pool2', layers.MaxPool2DLayer),\n",
    "        ('conv3', layers.Conv2DLayer),\n",
    "        ('hidden4', layers.DenseLayer),\n",
    "        ('hidden5', layers.DenseLayer),\n",
    "        ('output', layers.DenseLayer),\n",
    "        ],\n",
    "    input_shape=(None, 1, 32, 32),\n",
    "    #Layer-1 Convolution\n",
    "    conv1_num_filters=32, conv1_filter_size=(5, 5), conv1_nonlinearity=lasagne.nonlinearities.rectify,\n",
    "\n",
    "    #Layer-2 Pooling\n",
    "    pool1_pool_size=(2, 2),\n",
    "\n",
    "    #Layer-3 Convolution\n",
    "    conv2_num_filters=32, conv2_filter_size=(5, 5), conv2_nonlinearity=lasagne.nonlinearities.rectify,\n",
    "\n",
    "    #Layer-4 pooling\n",
    "    pool2_pool_size=(2, 2),\n",
    "\n",
    "    #Layer-5 Convolution\n",
    "    conv3_num_filters=64, conv3_filter_size=(5, 5), conv3_nonlinearity=lasagne.nonlinearities.rectify,\n",
    "\n",
    "    #Layer-5 Dense Layer1 and Layer2\n",
    "    hidden4_num_units=64, hidden4_nonlinearity=lasagne.nonlinearities.linear,\n",
    "\thidden5_num_units=10, hidden5_nonlinearity=lasagne.nonlinearities.rectify,\n",
    "\n",
    "    #Layer-8 Output Layer\n",
    "    output_num_units=10, output_nonlinearity=lasagne.nonlinearities.softmax,\n",
    "\n",
    "    update_learning_rate=0.001,\n",
    "    update_momentum=0.9,\n",
    "\n",
    "    regression=True,\n",
    "    max_epochs=100,\n",
    "    verbose=1,\n",
    "    )\n"
   ]
  },
  {
   "cell_type": "code",
   "execution_count": null,
   "metadata": {
    "collapsed": true
   },
   "outputs": [],
   "source": []
  },
  {
   "cell_type": "code",
   "execution_count": 5,
   "metadata": {
    "collapsed": true
   },
   "outputs": [],
   "source": [
    "x_train, y_train, x_test, y_test = load_data(os.path.expanduser('F:/pandas-ex/mnist-test/cifar-10-batches-py'))"
   ]
  },
  {
   "cell_type": "code",
   "execution_count": null,
   "metadata": {
    "collapsed": true
   },
   "outputs": [],
   "source": [
    "network = net2.fit(x_train, y_train)\n",
    "predictions = network.predict(x_test)"
   ]
  },
  {
   "cell_type": "code",
   "execution_count": null,
   "metadata": {
    "collapsed": true
   },
   "outputs": [],
   "source": []
  },
  {
   "cell_type": "code",
   "execution_count": null,
   "metadata": {
    "collapsed": true
   },
   "outputs": [],
   "source": []
  },
  {
   "cell_type": "code",
   "execution_count": null,
   "metadata": {
    "collapsed": true
   },
   "outputs": [],
   "source": []
  }
 ],
 "metadata": {
  "kernelspec": {
   "display_name": "Python 2",
   "language": "python",
   "name": "python2"
  },
  "language_info": {
   "codemirror_mode": {
    "name": "ipython",
    "version": 2
   },
   "file_extension": ".py",
   "mimetype": "text/x-python",
   "name": "python",
   "nbconvert_exporter": "python",
   "pygments_lexer": "ipython2",
   "version": "2.7.11"
  }
 },
 "nbformat": 4,
 "nbformat_minor": 0
}
