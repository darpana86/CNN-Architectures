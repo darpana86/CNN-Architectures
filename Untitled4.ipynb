{
 "cells": [
  {
   "cell_type": "code",
   "execution_count": 1,
   "metadata": {
    "collapsed": false
   },
   "outputs": [
    {
     "name": "stderr",
     "output_type": "stream",
     "text": [
      "DEBUG: nvcc STDOUT mod.cu\n",
      "   Creating library C:/Users/admin/AppData/Local/Theano/compiledir_Windows-8-6.2.9200-Intel64_Family_6_Model_69_Stepping_1_GenuineIntel-2.7.10-64/cuda_ndarray/cuda_ndarray.lib and object C:/Users/admin/AppData/Local/Theano/compiledir_Windows-8-6.2.9200-Intel64_Family_6_Model_69_Stepping_1_GenuineIntel-2.7.10-64/cuda_ndarray/cuda_ndarray.exp\n",
      "\n",
      "Using gpu device 0: GeForce 820M (CNMeM is disabled)\n",
      "DEBUG: nvcc STDOUT mod.cu\n",
      "   Creating library C:/Users/admin/AppData/Local/Theano/compiledir_Windows-8-6.2.9200-Intel64_Family_6_Model_69_Stepping_1_GenuineIntel-2.7.10-64/tmpedzoq7/97496c4d3cf9a06dc4082cc141f918d2.lib and object C:/Users/admin/AppData/Local/Theano/compiledir_Windows-8-6.2.9200-Intel64_Family_6_Model_69_Stepping_1_GenuineIntel-2.7.10-64/tmpedzoq7/97496c4d3cf9a06dc4082cc141f918d2.exp\n",
      "\n",
      "DEBUG: nvcc STDOUT mod.cu\n",
      "   Creating library C:/Users/admin/AppData/Local/Theano/compiledir_Windows-8-6.2.9200-Intel64_Family_6_Model_69_Stepping_1_GenuineIntel-2.7.10-64/tmpf3kzee/6174b19f8005a60d6a2faaae7ff1c9a7.lib and object C:/Users/admin/AppData/Local/Theano/compiledir_Windows-8-6.2.9200-Intel64_Family_6_Model_69_Stepping_1_GenuineIntel-2.7.10-64/tmpf3kzee/6174b19f8005a60d6a2faaae7ff1c9a7.exp\n",
      "\n"
     ]
    }
   ],
   "source": [
    "import theano"
   ]
  },
  {
   "cell_type": "code",
   "execution_count": null,
   "metadata": {
    "collapsed": true
   },
   "outputs": [],
   "source": []
  }
 ],
 "metadata": {
  "kernelspec": {
   "display_name": "Python 2",
   "language": "python",
   "name": "python2"
  },
  "language_info": {
   "codemirror_mode": {
    "name": "ipython",
    "version": 2
   },
   "file_extension": ".py",
   "mimetype": "text/x-python",
   "name": "python",
   "nbconvert_exporter": "python",
   "pygments_lexer": "ipython2",
   "version": "2.7.10"
  }
 },
 "nbformat": 4,
 "nbformat_minor": 0
}
