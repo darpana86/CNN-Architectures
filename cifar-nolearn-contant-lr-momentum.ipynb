{
 "cells": [
  {
   "cell_type": "code",
   "execution_count": 1,
   "metadata": {
    "collapsed": false
   },
   "outputs": [
    {
     "name": "stderr",
     "output_type": "stream",
     "text": [
      "Using gpu device 0: GeForce 820M (CNMeM is disabled, cuDNN not available)\n",
      "C:\\Users\\admin\\Anaconda2\\lib\\site-packages\\theano\\tensor\\signal\\downsample.py:6: UserWarning: downsample module has been moved to the theano.tensor.signal.pool module.\n",
      "  \"downsample module has been moved to the theano.tensor.signal.pool module.\")\n"
     ]
    }
   ],
   "source": [
    "#Import Libraries\n",
    "import cPickle as pickle\n",
    "import os\n",
    "import numpy as np\n",
    "from IPython import display\n",
    "import matplotlib.pyplot as plt\n",
    "import theano\n",
    "import matplotlib.cm as cm\n",
    "import lasagne\n",
    "from lasagne import layers\n",
    "from lasagne.updates import nesterov_momentum\n",
    "from nolearn.lasagne import NeuralNet\n",
    "from nolearn.lasagne import visualize\n",
    "from sklearn.metrics import confusion_matrix, classification_report, accuracy_score"
   ]
  },
  {
   "cell_type": "code",
   "execution_count": 2,
   "metadata": {
    "collapsed": false
   },
   "outputs": [],
   "source": [
    "class PlotLosses(object):\n",
    "    def __init__(self, figsize=(8, 6)):\n",
    "        plt.plot([],[])\n",
    "    def __call__(self, nn, train_history):\n",
    "        train_loss=np.array([i[\"train_loss\"] for i in nn.train_history_])\n",
    "        valid_loss=np.array([i[\"valid_loss\"] for i in nn.train_history_])\n",
    "        \n",
    "        plt.gca().cla()\n",
    "        plt.plot(train_loss, label=\"train\")\n",
    "        plt.plot(valid_loss, label=\"test\")\n",
    "        \n",
    "        plt.legend()\n",
    "        plt.draw()"
   ]
  },
  {
   "cell_type": "code",
   "execution_count": 3,
   "metadata": {
    "collapsed": true
   },
   "outputs": [],
   "source": [
    "#Loading Data..\n",
    "def load_data(path):\n",
    "    x_train = np.zeros((50000, 3, 32, 32), dtype='uint8')\n",
    "    y_train = np.zeros((50000,), dtype=\"uint8\")\n",
    "\n",
    "    for i in range(1, 6):\n",
    "        data = unpickle(os.path.join(path, 'data_batch_' + str(i)))\n",
    "        images = data['data'].reshape(10000, 3, 32, 32)\n",
    "        labels = data['labels']\n",
    "        x_train[(i - 1) * 10000:i * 10000, :, :, :] = images\n",
    "        y_train[(i - 1) * 10000:i * 10000] = labels\n",
    "\n",
    "    test_data = unpickle(os.path.join(path, 'test_batch'))\n",
    "    x_test = test_data['data'].reshape(10000, 3, 32, 32)\n",
    "    y_test = np.array(test_data['labels'])\n",
    "\n",
    "    return x_train/np.float32(255), y_train/np.float32(255), x_test/np.float32(255), y_test/np.float32(256)\n",
    "\n",
    "#Define unpickle Function\n",
    "def unpickle(file):\n",
    "    f = open(file, 'rb')\n",
    "    dict = pickle.load(f)\n",
    "    f.close()\n",
    "    return dict\n",
    "\n",
    "x_train, y_train, x_test, y_test = load_data(os.path.expanduser('F:/pandas-ex/mnist-test/cifar-10-batches-py'))"
   ]
  },
  {
   "cell_type": "code",
   "execution_count": 4,
   "metadata": {
    "collapsed": false
   },
   "outputs": [],
   "source": [
    "net = NeuralNet(\n",
    "    layers=[('input', layers.InputLayer),\n",
    "            ('conv2d1', layers.Conv2DLayer),\n",
    "            ('maxpool1', layers.MaxPool2DLayer),\n",
    "            ('conv2d2', layers.Conv2DLayer),\n",
    "            ('maxpool2', layers.MaxPool2DLayer),\n",
    "            ('dense', layers.DenseLayer),\n",
    "            ('output', layers.DenseLayer),\n",
    "            ],\n",
    "    input_shape=(None, 3, 32, 32),\n",
    "    conv2d1_num_filters=20,\n",
    "    conv2d1_filter_size=(5, 5),\n",
    "    conv2d1_stride=(1, 1),\n",
    "    conv2d1_pad=(2, 2),\n",
    "    conv2d1_nonlinearity=lasagne.nonlinearities.rectify,\n",
    "    \n",
    "    maxpool1_pool_size=(2, 2),\n",
    "    \n",
    "    conv2d2_num_filters=20,\n",
    "    conv2d2_filter_size=(5, 5),\n",
    "    conv2d2_stride=(1, 1),\n",
    "    conv2d2_pad=(2, 2),\n",
    "    \n",
    "    conv2d2_nonlinearity=lasagne.nonlinearities.rectify,\n",
    "    \n",
    "    maxpool2_pool_size=(2, 2),\n",
    "    \n",
    "    dense_num_units=1000,\n",
    "    dense_nonlinearity=lasagne.nonlinearities.rectify,\n",
    "    output_nonlinearity=lasagne.nonlinearities.softmax,\n",
    "    output_num_units=10,\n",
    "    update=nesterov_momentum,\n",
    "    update_momentum=0.9,\n",
    "    update_learning_rate=0.0001,\n",
    "    max_epochs=100,\n",
    "    verbose=True,\n",
    "    on_epoch_finished=[PlotLosses(figsize=(8, 6))]\n",
    ")"
   ]
  },
  {
   "cell_type": "code",
   "execution_count": 5,
   "metadata": {
    "collapsed": false
   },
   "outputs": [
    {
     "name": "stderr",
     "output_type": "stream",
     "text": [
      "f:\\pandas-ex\\mnist-test\\lasagne\\lasagne\\layers\\conv.py:489: UserWarning: The `image_shape` keyword argument to `tensor.nnet.conv2d` is deprecated, it has been renamed to `input_shape`.\n",
      "  border_mode=border_mode)\n",
      "f:\\pandas-ex\\nolearn-test\\nolearn\\lasagne\\base.py:428: UserWarning: The Param class is deprecated. Replace Param(default=N) by theano.In(value=N)\n",
      "  for input_layer in input_layers]\n",
      "f:\\pandas-ex\\nolearn-test\\nolearn\\lasagne\\base.py:429: UserWarning: The Param class is deprecated. Replace Param(default=N) by theano.In(value=N)\n",
      "  inputs = X_inputs + [theano.Param(y_batch, name=\"y\")]\n",
      "WARNING (theano.gof.compilelock): Overriding existing lock by dead process '1012' (I am process '9108')\n",
      "WARNING:theano.gof.compilelock:Overriding existing lock by dead process '1012' (I am process '9108')\n"
     ]
    },
    {
     "name": "stdout",
     "output_type": "stream",
     "text": [
      "# Neural Network with 1302550 learnable parameters\n",
      "\n",
      "## Layer information\n",
      "\n",
      "  #  name      size\n",
      "---  --------  --------\n",
      "  0  input     3x32x32\n",
      "  1  conv2d1   20x32x32\n",
      "  2  maxpool1  20x16x16\n",
      "  3  conv2d2   20x16x16\n",
      "  4  maxpool2  20x8x8\n",
      "  5  dense     1000\n",
      "  6  output    10\n",
      "\n"
     ]
    },
    {
     "ename": "TypeError",
     "evalue": "('Bad input argument to theano function with name \"f:\\\\pandas-ex\\\\nolearn-test\\\\nolearn\\\\lasagne\\\\base.py:435\" at index 1 (0-based)', 'TensorType(int32, vector) cannot store a value of dtype float32 without risking loss of precision. If you do not mind this loss, you can: 1) explicitly cast your data to int32, or 2) set \"allow_input_downcast=True\" when calling \"function\".', array([ 0.0078125 ,  0.0078125 ,  0.0078125 ,  0.03125   ,  0.03125   ,\n        0.03125   ,  0.03125   ,  0.0078125 ,  0.0078125 ,  0.03125   ,\n        0.03125   ,  0.03125   ,  0.0078125 ,  0.0078125 ,  0.0078125 ,\n        0.03125   ,  0.03125   ,  0.0078125 ,  0.0078125 ,  0.0234375 ,\n        0.0234375 ,  0.0234375 ,  0.03125   ,  0.0234375 ,  0.0078125 ,\n        0.03125   ,  0.0234375 ,  0.0078125 ,  0.0078125 ,  0.0078125 ,\n        0.0234375 ,  0.0234375 ,  0.03125   ,  0.0234375 ,  0.03125   ,\n        0.0078125 ,  0.0234375 ,  0.0234375 ,  0.0234375 ,  0.0234375 ,\n        0.03125   ,  0.0234375 ,  0.0234375 ,  0.0234375 ,  0.0078125 ,\n        0.03125   ,  0.0234375 ,  0.0234375 ,  0.03125   ,  0.0078125 ,\n        0.0234375 ,  0.03125   ,  0.03125   ,  0.0078125 ,  0.0078125 ,\n        0.0234375 ,  0.0078125 ,  0.01171875,  0.01171875,  0.01171875,\n        0.01171875,  0.03125   ,  0.01171875,  0.0078125 ,  0.0078125 ,\n        0.0078125 ,  0.03125   ,  0.0234375 ,  0.0234375 ,  0.01171875,\n        0.01171875,  0.0234375 ,  0.01171875,  0.0078125 ,  0.03125   ,\n        0.0078125 ,  0.0234375 ,  0.01171875,  0.01171875,  0.        ,\n        0.03125   ,  0.0078125 ,  0.0234375 ,  0.0078125 ,  0.03125   ,\n        0.        ,  0.01171875,  0.0234375 ,  0.01171875,  0.03125   ,\n        0.01171875,  0.0234375 ,  0.03125   ,  0.01171875,  0.0234375 ,\n        0.0234375 ,  0.0078125 ,  0.0234375 ,  0.02734375,  0.01171875,\n        0.        ,  0.        ,  0.        ,  0.0078125 ,  0.0078125 ,\n        0.0078125 ,  0.0078125 ,  0.0234375 ,  0.01171875,  0.0234375 ,\n        0.0234375 ,  0.03125   ,  0.03125   ,  0.01171875,  0.0234375 ,\n        0.        ,  0.0234375 ,  0.        ,  0.01171875,  0.0234375 ,\n        0.0234375 ,  0.015625  ,  0.03125   ,  0.01171875,  0.0078125 ,\n        0.0234375 ,  0.        ,  0.01171875], dtype=float32))",
     "output_type": "error",
     "traceback": [
      "\u001b[1;31m---------------------------------------------------------------------------\u001b[0m",
      "\u001b[1;31mTypeError\u001b[0m                                 Traceback (most recent call last)",
      "\u001b[1;32m<ipython-input-5-6fe0bc692aae>\u001b[0m in \u001b[0;36m<module>\u001b[1;34m()\u001b[0m\n\u001b[1;32m----> 1\u001b[1;33m \u001b[0mnet\u001b[0m\u001b[1;33m.\u001b[0m\u001b[0mfit\u001b[0m\u001b[1;33m(\u001b[0m\u001b[0mx_train\u001b[0m\u001b[1;33m,\u001b[0m \u001b[0my_train\u001b[0m\u001b[1;33m)\u001b[0m\u001b[1;33m\u001b[0m\u001b[0m\n\u001b[0m\u001b[0;32m      2\u001b[0m \u001b[1;32mwith\u001b[0m \u001b[0mopen\u001b[0m\u001b[1;33m(\u001b[0m\u001b[1;34m'net1.pickle'\u001b[0m\u001b[1;33m,\u001b[0m \u001b[1;34m'wb'\u001b[0m\u001b[1;33m)\u001b[0m \u001b[1;32mas\u001b[0m \u001b[0mf\u001b[0m\u001b[1;33m:\u001b[0m\u001b[1;33m\u001b[0m\u001b[0m\n\u001b[0;32m      3\u001b[0m     \u001b[0mpickle\u001b[0m\u001b[1;33m.\u001b[0m\u001b[0mdump\u001b[0m\u001b[1;33m(\u001b[0m\u001b[0mnet\u001b[0m\u001b[1;33m,\u001b[0m\u001b[0mf\u001b[0m\u001b[1;33m,\u001b[0m \u001b[1;33m-\u001b[0m\u001b[1;36m1\u001b[0m\u001b[1;33m)\u001b[0m\u001b[1;33m\u001b[0m\u001b[0m\n",
      "\u001b[1;32mf:\\pandas-ex\\nolearn-test\\nolearn\\lasagne\\base.pyc\u001b[0m in \u001b[0;36mfit\u001b[1;34m(self, X, y, epochs)\u001b[0m\n\u001b[0;32m    458\u001b[0m \u001b[1;33m\u001b[0m\u001b[0m\n\u001b[0;32m    459\u001b[0m         \u001b[1;32mtry\u001b[0m\u001b[1;33m:\u001b[0m\u001b[1;33m\u001b[0m\u001b[0m\n\u001b[1;32m--> 460\u001b[1;33m             \u001b[0mself\u001b[0m\u001b[1;33m.\u001b[0m\u001b[0mtrain_loop\u001b[0m\u001b[1;33m(\u001b[0m\u001b[0mX\u001b[0m\u001b[1;33m,\u001b[0m \u001b[0my\u001b[0m\u001b[1;33m,\u001b[0m \u001b[0mepochs\u001b[0m\u001b[1;33m=\u001b[0m\u001b[0mepochs\u001b[0m\u001b[1;33m)\u001b[0m\u001b[1;33m\u001b[0m\u001b[0m\n\u001b[0m\u001b[0;32m    461\u001b[0m         \u001b[1;32mexcept\u001b[0m \u001b[0mKeyboardInterrupt\u001b[0m\u001b[1;33m:\u001b[0m\u001b[1;33m\u001b[0m\u001b[0m\n\u001b[0;32m    462\u001b[0m             \u001b[1;32mpass\u001b[0m\u001b[1;33m\u001b[0m\u001b[0m\n",
      "\u001b[1;32mf:\\pandas-ex\\nolearn-test\\nolearn\\lasagne\\base.pyc\u001b[0m in \u001b[0;36mtrain_loop\u001b[1;34m(self, X, y, epochs)\u001b[0m\n\u001b[0;32m    512\u001b[0m             \u001b[1;32mfor\u001b[0m \u001b[0mXb\u001b[0m\u001b[1;33m,\u001b[0m \u001b[0myb\u001b[0m \u001b[1;32min\u001b[0m \u001b[0mself\u001b[0m\u001b[1;33m.\u001b[0m\u001b[0mbatch_iterator_train\u001b[0m\u001b[1;33m(\u001b[0m\u001b[0mX_train\u001b[0m\u001b[1;33m,\u001b[0m \u001b[0my_train\u001b[0m\u001b[1;33m)\u001b[0m\u001b[1;33m:\u001b[0m\u001b[1;33m\u001b[0m\u001b[0m\n\u001b[0;32m    513\u001b[0m                 batch_train_loss = self.apply_batch_func(\n\u001b[1;32m--> 514\u001b[1;33m                     self.train_iter_, Xb, yb)\n\u001b[0m\u001b[0;32m    515\u001b[0m                 \u001b[0mtrain_losses\u001b[0m\u001b[1;33m.\u001b[0m\u001b[0mappend\u001b[0m\u001b[1;33m(\u001b[0m\u001b[0mbatch_train_loss\u001b[0m\u001b[1;33m)\u001b[0m\u001b[1;33m\u001b[0m\u001b[0m\n\u001b[0;32m    516\u001b[0m \u001b[1;33m\u001b[0m\u001b[0m\n",
      "\u001b[1;32mf:\\pandas-ex\\nolearn-test\\nolearn\\lasagne\\base.pyc\u001b[0m in \u001b[0;36mapply_batch_func\u001b[1;34m(func, Xb, yb)\u001b[0m\n\u001b[0;32m    569\u001b[0m             \u001b[1;32mreturn\u001b[0m \u001b[0mfunc\u001b[0m\u001b[1;33m(\u001b[0m\u001b[1;33m**\u001b[0m\u001b[0mkwargs\u001b[0m\u001b[1;33m)\u001b[0m\u001b[1;33m\u001b[0m\u001b[0m\n\u001b[0;32m    570\u001b[0m         \u001b[1;32melse\u001b[0m\u001b[1;33m:\u001b[0m\u001b[1;33m\u001b[0m\u001b[0m\n\u001b[1;32m--> 571\u001b[1;33m             \u001b[1;32mreturn\u001b[0m \u001b[0mfunc\u001b[0m\u001b[1;33m(\u001b[0m\u001b[0mXb\u001b[0m\u001b[1;33m)\u001b[0m \u001b[1;32mif\u001b[0m \u001b[0myb\u001b[0m \u001b[1;32mis\u001b[0m \u001b[0mNone\u001b[0m \u001b[1;32melse\u001b[0m \u001b[0mfunc\u001b[0m\u001b[1;33m(\u001b[0m\u001b[0mXb\u001b[0m\u001b[1;33m,\u001b[0m \u001b[0myb\u001b[0m\u001b[1;33m)\u001b[0m\u001b[1;33m\u001b[0m\u001b[0m\n\u001b[0m\u001b[0;32m    572\u001b[0m \u001b[1;33m\u001b[0m\u001b[0m\n\u001b[0;32m    573\u001b[0m     \u001b[1;32mdef\u001b[0m \u001b[0mpredict_proba\u001b[0m\u001b[1;33m(\u001b[0m\u001b[0mself\u001b[0m\u001b[1;33m,\u001b[0m \u001b[0mX\u001b[0m\u001b[1;33m)\u001b[0m\u001b[1;33m:\u001b[0m\u001b[1;33m\u001b[0m\u001b[0m\n",
      "\u001b[1;32mC:\\Users\\admin\\Anaconda2\\lib\\site-packages\\theano\\compile\\function_module.pyc\u001b[0m in \u001b[0;36m__call__\u001b[1;34m(self, *args, **kwargs)\u001b[0m\n\u001b[0;32m    786\u001b[0m                         s.storage[0] = s.type.filter(\n\u001b[0;32m    787\u001b[0m                             \u001b[0marg\u001b[0m\u001b[1;33m,\u001b[0m \u001b[0mstrict\u001b[0m\u001b[1;33m=\u001b[0m\u001b[0ms\u001b[0m\u001b[1;33m.\u001b[0m\u001b[0mstrict\u001b[0m\u001b[1;33m,\u001b[0m\u001b[1;33m\u001b[0m\u001b[0m\n\u001b[1;32m--> 788\u001b[1;33m                             allow_downcast=s.allow_downcast)\n\u001b[0m\u001b[0;32m    789\u001b[0m \u001b[1;33m\u001b[0m\u001b[0m\n\u001b[0;32m    790\u001b[0m                     \u001b[1;32mexcept\u001b[0m \u001b[0mException\u001b[0m \u001b[1;32mas\u001b[0m \u001b[0me\u001b[0m\u001b[1;33m:\u001b[0m\u001b[1;33m\u001b[0m\u001b[0m\n",
      "\u001b[1;32mC:\\Users\\admin\\Anaconda2\\lib\\site-packages\\theano\\tensor\\type.pyc\u001b[0m in \u001b[0;36mfilter\u001b[1;34m(self, data, strict, allow_downcast)\u001b[0m\n\u001b[0;32m    138\u001b[0m                             \u001b[1;34m'\"function\".'\u001b[0m\u001b[1;33m\u001b[0m\u001b[0m\n\u001b[0;32m    139\u001b[0m                             % (self, data.dtype, self.dtype))\n\u001b[1;32m--> 140\u001b[1;33m                         \u001b[1;32mraise\u001b[0m \u001b[0mTypeError\u001b[0m\u001b[1;33m(\u001b[0m\u001b[0merr_msg\u001b[0m\u001b[1;33m,\u001b[0m \u001b[0mdata\u001b[0m\u001b[1;33m)\u001b[0m\u001b[1;33m\u001b[0m\u001b[0m\n\u001b[0m\u001b[0;32m    141\u001b[0m                 elif (allow_downcast is None and\n\u001b[0;32m    142\u001b[0m                         \u001b[0mtype\u001b[0m\u001b[1;33m(\u001b[0m\u001b[0mdata\u001b[0m\u001b[1;33m)\u001b[0m \u001b[1;32mis\u001b[0m \u001b[0mfloat\u001b[0m \u001b[1;32mand\u001b[0m\u001b[1;33m\u001b[0m\u001b[0m\n",
      "\u001b[1;31mTypeError\u001b[0m: ('Bad input argument to theano function with name \"f:\\\\pandas-ex\\\\nolearn-test\\\\nolearn\\\\lasagne\\\\base.py:435\" at index 1 (0-based)', 'TensorType(int32, vector) cannot store a value of dtype float32 without risking loss of precision. If you do not mind this loss, you can: 1) explicitly cast your data to int32, or 2) set \"allow_input_downcast=True\" when calling \"function\".', array([ 0.0078125 ,  0.0078125 ,  0.0078125 ,  0.03125   ,  0.03125   ,\n        0.03125   ,  0.03125   ,  0.0078125 ,  0.0078125 ,  0.03125   ,\n        0.03125   ,  0.03125   ,  0.0078125 ,  0.0078125 ,  0.0078125 ,\n        0.03125   ,  0.03125   ,  0.0078125 ,  0.0078125 ,  0.0234375 ,\n        0.0234375 ,  0.0234375 ,  0.03125   ,  0.0234375 ,  0.0078125 ,\n        0.03125   ,  0.0234375 ,  0.0078125 ,  0.0078125 ,  0.0078125 ,\n        0.0234375 ,  0.0234375 ,  0.03125   ,  0.0234375 ,  0.03125   ,\n        0.0078125 ,  0.0234375 ,  0.0234375 ,  0.0234375 ,  0.0234375 ,\n        0.03125   ,  0.0234375 ,  0.0234375 ,  0.0234375 ,  0.0078125 ,\n        0.03125   ,  0.0234375 ,  0.0234375 ,  0.03125   ,  0.0078125 ,\n        0.0234375 ,  0.03125   ,  0.03125   ,  0.0078125 ,  0.0078125 ,\n        0.0234375 ,  0.0078125 ,  0.01171875,  0.01171875,  0.01171875,\n        0.01171875,  0.03125   ,  0.01171875,  0.0078125 ,  0.0078125 ,\n        0.0078125 ,  0.03125   ,  0.0234375 ,  0.0234375 ,  0.01171875,\n        0.01171875,  0.0234375 ,  0.01171875,  0.0078125 ,  0.03125   ,\n        0.0078125 ,  0.0234375 ,  0.01171875,  0.01171875,  0.        ,\n        0.03125   ,  0.0078125 ,  0.0234375 ,  0.0078125 ,  0.03125   ,\n        0.        ,  0.01171875,  0.0234375 ,  0.01171875,  0.03125   ,\n        0.01171875,  0.0234375 ,  0.03125   ,  0.01171875,  0.0234375 ,\n        0.0234375 ,  0.0078125 ,  0.0234375 ,  0.02734375,  0.01171875,\n        0.        ,  0.        ,  0.        ,  0.0078125 ,  0.0078125 ,\n        0.0078125 ,  0.0078125 ,  0.0234375 ,  0.01171875,  0.0234375 ,\n        0.0234375 ,  0.03125   ,  0.03125   ,  0.01171875,  0.0234375 ,\n        0.        ,  0.0234375 ,  0.        ,  0.01171875,  0.0234375 ,\n        0.0234375 ,  0.015625  ,  0.03125   ,  0.01171875,  0.0078125 ,\n        0.0234375 ,  0.        ,  0.01171875], dtype=float32))"
     ]
    }
   ],
   "source": [
    "net.fit(x_train, y_train)\n",
    "with open('net1.pickle', 'wb') as f:\n",
    "    pickle.dump(net,f, -1)"
   ]
  },
  {
   "cell_type": "code",
   "execution_count": 15,
   "metadata": {
    "collapsed": false
   },
   "outputs": [],
   "source": [
    "%matplotlib inline"
   ]
  },
  {
   "cell_type": "code",
   "execution_count": 17,
   "metadata": {
    "collapsed": false
   },
   "outputs": [
    {
     "data": {
      "image/png": "[encoded data removed]",
      "text/plain": [
       "<matplotlib.figure.Figure at 0x399658d0>"
      ]
     },
     "metadata": {},
     "output_type": "display_data"
    }
   ],
   "source": [
    "train_loss=np.array([i[\"train_loss\"] for i in net.train_history_])\n",
    "valid_loss=np.array([i[\"valid_loss\"] for i in net.train_history_]) \n",
    "plt.plot(train_loss, linewidth=3, label=\"train\")\n",
    "plt.plot(valid_loss, linewidth=3, label=\"valid\")\n",
    "plt.grid()\n",
    "plt.legend()\n",
    "plt.xlabel(\"epoch\")\n",
    "plt.ylabel(\"loss\")\n",
    "plt.show()"
   ]
  },
  {
   "cell_type": "code",
   "execution_count": null,
   "metadata": {
    "collapsed": true
   },
   "outputs": [],
   "source": []
  },
  {
   "cell_type": "code",
   "execution_count": 16,
   "metadata": {
    "collapsed": false
   },
   "outputs": [
    {
     "data": {
      "image/png": "[encoded data removed]",
      "text/plain": [
       "<matplotlib.figure.Figure at 0x397eeb70>"
      ]
     },
     "metadata": {},
     "output_type": "display_data"
    }
   ],
   "source": []
  },
  {
   "cell_type": "code",
   "execution_count": null,
   "metadata": {
    "collapsed": true
   },
   "outputs": [],
   "source": []
  },
  {
   "cell_type": "code",
   "execution_count": null,
   "metadata": {
    "collapsed": true
   },
   "outputs": [],
   "source": []
  },
  {
   "cell_type": "code",
   "execution_count": 3,
   "metadata": {
    "collapsed": false
   },
   "outputs": [
    {
     "ename": "NameError",
     "evalue": "name 'net' is not defined",
     "output_type": "error",
     "traceback": [
      "\u001b[1;31m---------------------------------------------------------------------------\u001b[0m",
      "\u001b[1;31mNameError\u001b[0m                                 Traceback (most recent call last)",
      "\u001b[1;32m<ipython-input-3-28cf3bca8391>\u001b[0m in \u001b[0;36m<module>\u001b[1;34m()\u001b[0m\n\u001b[1;32m----> 1\u001b[1;33m \u001b[0mtrain_loss\u001b[0m\u001b[1;33m=\u001b[0m\u001b[0mnp\u001b[0m\u001b[1;33m.\u001b[0m\u001b[0marray\u001b[0m\u001b[1;33m(\u001b[0m\u001b[1;33m[\u001b[0m\u001b[0mi\u001b[0m\u001b[1;33m[\u001b[0m\u001b[1;34m\"train_loss\"\u001b[0m\u001b[1;33m]\u001b[0m \u001b[1;32mfor\u001b[0m \u001b[0mi\u001b[0m \u001b[1;32min\u001b[0m \u001b[0mnet\u001b[0m\u001b[1;33m.\u001b[0m\u001b[0mtrain_history_\u001b[0m\u001b[1;33m]\u001b[0m\u001b[1;33m)\u001b[0m\u001b[1;33m\u001b[0m\u001b[0m\n\u001b[0m\u001b[0;32m      2\u001b[0m \u001b[0mvalid_loss\u001b[0m\u001b[1;33m=\u001b[0m\u001b[0mnp\u001b[0m\u001b[1;33m.\u001b[0m\u001b[0marray\u001b[0m\u001b[1;33m(\u001b[0m\u001b[1;33m[\u001b[0m\u001b[0mi\u001b[0m\u001b[1;33m[\u001b[0m\u001b[1;34m\"valid_loss\"\u001b[0m\u001b[1;33m]\u001b[0m \u001b[1;32mfor\u001b[0m \u001b[0mi\u001b[0m \u001b[1;32min\u001b[0m \u001b[0mnet\u001b[0m\u001b[1;33m.\u001b[0m\u001b[0mtrain_history_\u001b[0m\u001b[1;33m]\u001b[0m\u001b[1;33m)\u001b[0m\u001b[1;33m\u001b[0m\u001b[0m\n\u001b[0;32m      3\u001b[0m \u001b[0mplt\u001b[0m\u001b[1;33m.\u001b[0m\u001b[0mplot\u001b[0m\u001b[1;33m(\u001b[0m\u001b[0mtrain_loss\u001b[0m\u001b[1;33m,\u001b[0m \u001b[0mlinewidth\u001b[0m\u001b[1;33m=\u001b[0m\u001b[1;36m3\u001b[0m\u001b[1;33m,\u001b[0m \u001b[0mlabel\u001b[0m\u001b[1;33m=\u001b[0m\u001b[1;34m\"train\"\u001b[0m\u001b[1;33m)\u001b[0m\u001b[1;33m\u001b[0m\u001b[0m\n\u001b[0;32m      4\u001b[0m \u001b[0mplt\u001b[0m\u001b[1;33m.\u001b[0m\u001b[0mplot\u001b[0m\u001b[1;33m(\u001b[0m\u001b[0mvalid_loss\u001b[0m\u001b[1;33m,\u001b[0m \u001b[0mlinewidth\u001b[0m\u001b[1;33m=\u001b[0m\u001b[1;36m3\u001b[0m\u001b[1;33m,\u001b[0m \u001b[0mlabel\u001b[0m\u001b[1;33m=\u001b[0m\u001b[1;34m\"valid\"\u001b[0m\u001b[1;33m)\u001b[0m\u001b[1;33m\u001b[0m\u001b[0m\n\u001b[0;32m      5\u001b[0m \u001b[0mplt\u001b[0m\u001b[1;33m.\u001b[0m\u001b[0mgrid\u001b[0m\u001b[1;33m(\u001b[0m\u001b[1;33m)\u001b[0m\u001b[1;33m\u001b[0m\u001b[0m\n",
      "\u001b[1;31mNameError\u001b[0m: name 'net' is not defined"
     ]
    }
   ],
   "source": [
    "train_loss=np.array([i[\"train_loss\"] for i in net.train_history_])\n",
    "valid_loss=np.array([i[\"valid_loss\"] for i in net.train_history_]) \n",
    "plt.plot(train_loss, linewidth=3, label=\"train\")\n",
    "plt.plot(valid_loss, linewidth=3, label=\"valid\")\n",
    "plt.grid()\n",
    "plt.legend()\n",
    "plt.xlabel(\"epoch\")\n",
    "plt.ylabel(\"loss\")\n",
    "plt.ylim(1e1, 1e-2)\n",
    "plt.yscale(\"log\")\n",
    "plt.show()"
   ]
  },
  {
   "cell_type": "code",
   "execution_count": null,
   "metadata": {
    "collapsed": true
   },
   "outputs": [],
   "source": []
  },
  {
   "cell_type": "code",
   "execution_count": 2,
   "metadata": {
    "collapsed": false
   },
   "outputs": [
    {
     "ename": "NameError",
     "evalue": "name 'net' is not defined",
     "output_type": "error",
     "traceback": [
      "\u001b[1;31m---------------------------------------------------------------------------\u001b[0m",
      "\u001b[1;31mNameError\u001b[0m                                 Traceback (most recent call last)",
      "\u001b[1;32m<ipython-input-2-8f4f0a319ce5>\u001b[0m in \u001b[0;36m<module>\u001b[1;34m()\u001b[0m\n\u001b[1;32m----> 1\u001b[1;33m \u001b[0mpredictions\u001b[0m\u001b[1;33m=\u001b[0m\u001b[0mnet\u001b[0m\u001b[1;33m.\u001b[0m\u001b[0mpredict\u001b[0m\u001b[1;33m(\u001b[0m\u001b[0mx_test\u001b[0m\u001b[1;33m)\u001b[0m\u001b[1;33m\u001b[0m\u001b[0m\n\u001b[0m\u001b[0;32m      2\u001b[0m \u001b[1;32mprint\u001b[0m \u001b[0mclassification_report\u001b[0m\u001b[1;33m(\u001b[0m\u001b[0my_test\u001b[0m\u001b[1;33m,\u001b[0m \u001b[0mpredictions\u001b[0m\u001b[1;33m)\u001b[0m\u001b[1;33m\u001b[0m\u001b[0m\n\u001b[0;32m      3\u001b[0m \u001b[1;32mprint\u001b[0m \u001b[0maccuracy_score\u001b[0m\u001b[1;33m(\u001b[0m\u001b[0my_test\u001b[0m\u001b[1;33m,\u001b[0m \u001b[0mpredictions\u001b[0m\u001b[1;33m)\u001b[0m\u001b[1;33m\u001b[0m\u001b[0m\n",
      "\u001b[1;31mNameError\u001b[0m: name 'net' is not defined"
     ]
    }
   ],
   "source": [
    "predictions=net.predict(x_test)\n",
    "print classification_report(y_test, predictions)\n",
    "print accuracy_score(y_test, predictions)"
   ]
  },
  {
   "cell_type": "code",
   "execution_count": null,
   "metadata": {
    "collapsed": true
   },
   "outputs": [],
   "source": []
  },
  {
   "cell_type": "code",
   "execution_count": null,
   "metadata": {
    "collapsed": true
   },
   "outputs": [],
   "source": []
  }
 ],
 "metadata": {
  "kernelspec": {
   "display_name": "Python 2",
   "language": "python",
   "name": "python2"
  },
  "language_info": {
   "codemirror_mode": {
    "name": "ipython",
    "version": 2
   },
   "file_extension": ".py",
   "mimetype": "text/x-python",
   "name": "python",
   "nbconvert_exporter": "python",
   "pygments_lexer": "ipython2",
   "version": "2.7.11"
  }
 },
 "nbformat": 4,
 "nbformat_minor": 0
}
