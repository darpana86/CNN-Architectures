{
 "cells": [
  {
   "cell_type": "code",
   "execution_count": 1,
   "metadata": {
    "collapsed": false
   },
   "outputs": [
    {
     "name": "stderr",
     "output_type": "stream",
     "text": [
      "Using gpu device 0: GeForce 820M (CNMeM is disabled)\n"
     ]
    }
   ],
   "source": [
    "import theano\n",
    "import cPickle as pickle\n",
    "import os\n",
    "import numpy as np\n",
    "%matplotlib inline\n",
    "import matplotlib.pyplot as plt\n",
    "import matplotlib.cm as cm\n",
    "import lasagne\n",
    "from lasagne import layers\n",
    "from lasagne.updates import nesterov_momentum\n",
    "from nolearn.lasagne import NeuralNet\n",
    "from nolearn.lasagne import visualize\n",
    "from sklearn.metrics import confusion_matrix, classification_report, accuracy_score"
   ]
  },
  {
   "cell_type": "code",
   "execution_count": null,
   "metadata": {
    "collapsed": true
   },
   "outputs": [],
   "source": []
  },
  {
   "cell_type": "code",
   "execution_count": 2,
   "metadata": {
    "collapsed": true
   },
   "outputs": [],
   "source": [
    "def load_data(path):\n",
    "    x_train = np.zeros((50000, 3, 32, 32), dtype='uint8')\n",
    "    y_train = np.zeros((50000,), dtype=\"uint8\")\n",
    "\n",
    "    for i in range(1, 6):\n",
    "        data = unpickle(os.path.join(path, 'data_batch_' + str(i)))\n",
    "        images = data['data'].reshape(10000, 3, 32, 32)\n",
    "        labels = data['labels']\n",
    "        x_train[(i - 1) * 10000:i * 10000, :, :, :] = images\n",
    "        y_train[(i - 1) * 10000:i * 10000] = labels\n",
    "\n",
    "    test_data = unpickle(os.path.join(path, 'test_batch'))\n",
    "    x_test = test_data['data'].reshape(10000, 3, 32, 32)\n",
    "    y_test = np.array(test_data['labels'])\n",
    "\n",
    "    return x_train, y_train, x_test, y_test\n",
    "\n",
    "\n",
    "def unpickle(file):\n",
    "    f = open(file, 'rb')\n",
    "    dict = pickle.load(f)\n",
    "    f.close()\n",
    "    return dict"
   ]
  },
  {
   "cell_type": "code",
   "execution_count": null,
   "metadata": {
    "collapsed": true
   },
   "outputs": [],
   "source": []
  },
  {
   "cell_type": "code",
   "execution_count": 3,
   "metadata": {
    "collapsed": true
   },
   "outputs": [],
   "source": [
    "net = NeuralNet(\n",
    "    layers=[('input', layers.InputLayer),\n",
    "            ('conv2d1', layers.Conv2DLayer),\n",
    "            ('maxpool1', layers.MaxPool2DLayer),\n",
    "            ('conv2d2', layers.Conv2DLayer),\n",
    "            ('maxpool2', layers.MaxPool2DLayer),\n",
    "            ('dense', layers.DenseLayer),\n",
    "            ('output', layers.DenseLayer),\n",
    "            ],\n",
    "    input_shape=(None, 3, 32, 32),\n",
    "    conv2d1_num_filters=20,\n",
    "    conv2d1_filter_size=(5, 5),\n",
    "    conv2d1_stride=(1, 1),\n",
    "    conv2d1_pad=(2, 2),\n",
    "    conv2d1_nonlinearity=lasagne.nonlinearities.rectify,\n",
    "    maxpool1_pool_size=(2, 2),\n",
    "    conv2d2_num_filters=20,\n",
    "    conv2d2_filter_size=(5, 5),\n",
    "    conv2d2_stride=(1, 1),\n",
    "    conv2d2_pad=(2, 2),\n",
    "    conv2d2_nonlinearity=lasagne.nonlinearities.rectify,\n",
    "    maxpool2_pool_size=(2, 2),\n",
    "    dense_num_units=1000,\n",
    "    dense_nonlinearity=lasagne.nonlinearities.rectify,\n",
    "    output_nonlinearity=lasagne.nonlinearities.softmax,\n",
    "    output_num_units=10,\n",
    "    update=nesterov_momentum,\n",
    "    update_momentum=0.9,\n",
    "    update_learning_rate=0.01,\n",
    "    max_epochs=10,\n",
    "    verbose=True\n",
    ")\n",
    "\n",
    "x_train, y_train, x_test, y_test = load_data(os.path.expanduser('F:/pandas-ex/mnist-test/cifar-10-batches-py'))"
   ]
  },
  {
   "cell_type": "code",
   "execution_count": null,
   "metadata": {
    "collapsed": true
   },
   "outputs": [],
   "source": []
  },
  {
   "cell_type": "code",
   "execution_count": 4,
   "metadata": {
    "collapsed": false
   },
   "outputs": [
    {
     "data": {
      "text/plain": [
       "array([[[[ 59,  43,  50, ..., 158, 152, 148],\n",
       "         [ 16,   0,  18, ..., 123, 119, 122],\n",
       "         [ 25,  16,  49, ..., 118, 120, 109],\n",
       "         ..., \n",
       "         [208, 201, 198, ..., 160,  56,  53],\n",
       "         [180, 173, 186, ..., 184,  97,  83],\n",
       "         [177, 168, 179, ..., 216, 151, 123]],\n",
       "\n",
       "        [[ 62,  46,  48, ..., 132, 125, 124],\n",
       "         [ 20,   0,   8, ...,  88,  83,  87],\n",
       "         [ 24,   7,  27, ...,  84,  84,  73],\n",
       "         ..., \n",
       "         [170, 153, 161, ..., 133,  31,  34],\n",
       "         [139, 123, 144, ..., 148,  62,  53],\n",
       "         [144, 129, 142, ..., 184, 118,  92]],\n",
       "\n",
       "        [[ 63,  45,  43, ..., 108, 102, 103],\n",
       "         [ 20,   0,   0, ...,  55,  50,  57],\n",
       "         [ 21,   0,   8, ...,  50,  50,  42],\n",
       "         ..., \n",
       "         [ 96,  34,  26, ...,  70,   7,  20],\n",
       "         [ 96,  42,  30, ...,  94,  34,  34],\n",
       "         [116,  94,  87, ..., 140,  84,  72]]],\n",
       "\n",
       "\n",
       "       [[[154, 126, 105, ...,  91,  87,  79],\n",
       "         [140, 145, 125, ...,  96,  77,  71],\n",
       "         [140, 139, 115, ...,  79,  68,  67],\n",
       "         ..., \n",
       "         [175, 156, 154, ...,  42,  61,  93],\n",
       "         [165, 156, 159, ..., 103, 123, 131],\n",
       "         [163, 158, 163, ..., 143, 143, 143]],\n",
       "\n",
       "        [[177, 137, 104, ...,  95,  90,  81],\n",
       "         [160, 153, 125, ...,  99,  80,  73],\n",
       "         [155, 146, 115, ...,  82,  70,  69],\n",
       "         ..., \n",
       "         [167, 154, 160, ...,  34,  53,  83],\n",
       "         [154, 152, 161, ...,  93, 114, 121],\n",
       "         [148, 148, 156, ..., 133, 134, 133]],\n",
       "\n",
       "        [[187, 136,  95, ...,  71,  71,  70],\n",
       "         [169, 154, 118, ...,  78,  62,  61],\n",
       "         [164, 149, 112, ...,  64,  55,  55],\n",
       "         ..., \n",
       "         [166, 160, 170, ...,  36,  57,  91],\n",
       "         [128, 130, 142, ...,  96, 120, 131],\n",
       "         [120, 122, 133, ..., 139, 142, 144]]],\n",
       "\n",
       "\n",
       "       [[[255, 253, 253, ..., 253, 253, 253],\n",
       "         [255, 255, 255, ..., 255, 255, 255],\n",
       "         [255, 254, 254, ..., 254, 254, 254],\n",
       "         ..., \n",
       "         [113, 111, 105, ...,  72,  72,  72],\n",
       "         [111, 104,  99, ...,  68,  70,  78],\n",
       "         [106,  99,  95, ...,  78,  79,  80]],\n",
       "\n",
       "        [[255, 253, 253, ..., 253, 253, 253],\n",
       "         [255, 255, 255, ..., 255, 255, 255],\n",
       "         [255, 254, 254, ..., 254, 254, 254],\n",
       "         ..., \n",
       "         [120, 118, 112, ...,  81,  80,  80],\n",
       "         [118, 111, 106, ...,  75,  76,  84],\n",
       "         [113, 106, 102, ...,  85,  85,  86]],\n",
       "\n",
       "        [[255, 253, 253, ..., 253, 253, 253],\n",
       "         [255, 255, 255, ..., 255, 255, 255],\n",
       "         [255, 254, 254, ..., 254, 254, 254],\n",
       "         ..., \n",
       "         [112, 111, 106, ...,  80,  79,  79],\n",
       "         [110, 104,  98, ...,  73,  75,  82],\n",
       "         [105,  98,  94, ...,  83,  83,  84]]],\n",
       "\n",
       "\n",
       "       ..., \n",
       "       [[[ 35,  40,  42, ...,  99,  79,  89],\n",
       "         [ 57,  44,  50, ..., 156, 141, 116],\n",
       "         [ 98,  64,  69, ..., 188, 119,  61],\n",
       "         ..., \n",
       "         [ 73,  53,  54, ...,  17,  21,  33],\n",
       "         [ 61,  55,  57, ...,  24,  17,   7],\n",
       "         [ 44,  46,  49, ...,  27,  21,  12]],\n",
       "\n",
       "        [[178, 176, 176, ..., 177, 147, 148],\n",
       "         [182, 184, 183, ..., 182, 177, 149],\n",
       "         [197, 189, 192, ..., 195, 135,  79],\n",
       "         ..., \n",
       "         [ 79,  63,  68, ...,  40,  36,  48],\n",
       "         [ 68,  70,  79, ...,  48,  35,  23],\n",
       "         [ 56,  66,  77, ...,  52,  43,  31]],\n",
       "\n",
       "        [[235, 239, 241, ..., 219, 197, 189],\n",
       "         [234, 250, 240, ..., 200, 206, 175],\n",
       "         [237, 252, 245, ..., 206, 147,  90],\n",
       "         ..., \n",
       "         [ 77,  68,  80, ...,  64,  51,  49],\n",
       "         [ 75,  86, 103, ...,  72,  53,  32],\n",
       "         [ 73,  88, 105, ...,  77,  66,  50]]],\n",
       "\n",
       "\n",
       "       [[[189, 186, 185, ..., 175, 172, 169],\n",
       "         [194, 191, 190, ..., 173, 171, 167],\n",
       "         [208, 205, 204, ..., 175, 172, 169],\n",
       "         ..., \n",
       "         [207, 203, 203, ..., 135, 162, 168],\n",
       "         [198, 189, 180, ..., 178, 175, 175],\n",
       "         [198, 189, 178, ..., 195, 196, 195]],\n",
       "\n",
       "        [[211, 208, 207, ..., 195, 194, 194],\n",
       "         [210, 207, 206, ..., 192, 191, 190],\n",
       "         [219, 216, 215, ..., 191, 190, 191],\n",
       "         ..., \n",
       "         [199, 195, 196, ..., 132, 158, 163],\n",
       "         [190, 181, 172, ..., 171, 169, 169],\n",
       "         [189, 181, 170, ..., 184, 189, 190]],\n",
       "\n",
       "        [[240, 236, 235, ..., 224, 222, 220],\n",
       "         [239, 236, 235, ..., 220, 218, 216],\n",
       "         [244, 240, 239, ..., 217, 216, 215],\n",
       "         ..., \n",
       "         [181, 175, 173, ..., 127, 150, 151],\n",
       "         [170, 159, 147, ..., 160, 156, 154],\n",
       "         [173, 162, 149, ..., 169, 171, 171]]],\n",
       "\n",
       "\n",
       "       [[[229, 236, 234, ..., 217, 221, 222],\n",
       "         [222, 239, 233, ..., 223, 227, 210],\n",
       "         [213, 234, 231, ..., 220, 220, 202],\n",
       "         ..., \n",
       "         [150, 140, 132, ..., 224, 230, 241],\n",
       "         [137, 130, 125, ..., 181, 202, 212],\n",
       "         [122, 118, 120, ..., 179, 164, 163]],\n",
       "\n",
       "        [[229, 237, 236, ..., 219, 223, 223],\n",
       "         [221, 239, 234, ..., 223, 228, 211],\n",
       "         [206, 232, 233, ..., 220, 219, 203],\n",
       "         ..., \n",
       "         [143, 135, 127, ..., 222, 228, 241],\n",
       "         [132, 127, 121, ..., 180, 201, 211],\n",
       "         [119, 116, 116, ..., 177, 164, 163]],\n",
       "\n",
       "        [[239, 247, 247, ..., 233, 234, 233],\n",
       "         [229, 249, 246, ..., 236, 238, 220],\n",
       "         [211, 239, 244, ..., 232, 232, 215],\n",
       "         ..., \n",
       "         [135, 127, 120, ..., 218, 225, 238],\n",
       "         [126, 120, 115, ..., 178, 198, 207],\n",
       "         [114, 110, 111, ..., 173, 162, 161]]]], dtype=uint8)"
      ]
     },
     "execution_count": 4,
     "metadata": {},
     "output_type": "execute_result"
    }
   ],
   "source": [
    "x_train"
   ]
  },
  {
   "cell_type": "code",
   "execution_count": 7,
   "metadata": {
    "collapsed": false
   },
   "outputs": [
    {
     "data": {
      "text/plain": [
       "(50000L, 3L, 32L, 32L)"
      ]
     },
     "execution_count": 7,
     "metadata": {},
     "output_type": "execute_result"
    }
   ],
   "source": [
    "x_train.shape"
   ]
  },
  {
   "cell_type": "code",
   "execution_count": 9,
   "metadata": {
    "collapsed": false
   },
   "outputs": [],
   "source": [
    "first_image=x_train[0][0]"
   ]
  },
  {
   "cell_type": "code",
   "execution_count": 10,
   "metadata": {
    "collapsed": false
   },
   "outputs": [
    {
     "data": {
      "text/plain": [
       "(32L, 32L)"
      ]
     },
     "execution_count": 10,
     "metadata": {},
     "output_type": "execute_result"
    }
   ],
   "source": [
    "first_image.shape"
   ]
  },
  {
   "cell_type": "code",
   "execution_count": 12,
   "metadata": {
    "collapsed": false
   },
   "outputs": [
    {
     "data": {
      "text/plain": [
       "6"
      ]
     },
     "execution_count": 12,
     "metadata": {},
     "output_type": "execute_result"
    }
   ],
   "source": [
    "y_train[0]"
   ]
  },
  {
   "cell_type": "code",
   "execution_count": 13,
   "metadata": {
    "collapsed": false
   },
   "outputs": [
    {
     "data": {
      "text/plain": [
       "(50000L, 3L, 32L, 32L)"
      ]
     },
     "execution_count": 13,
     "metadata": {},
     "output_type": "execute_result"
    }
   ],
   "source": [
    "np.shape(x_train)"
   ]
  },
  {
   "cell_type": "code",
   "execution_count": 18,
   "metadata": {
    "collapsed": false
   },
   "outputs": [],
   "source": [
    "image = x_train[0]"
   ]
  },
  {
   "cell_type": "code",
   "execution_count": 6,
   "metadata": {
    "collapsed": false
   },
   "outputs": [],
   "source": [
    "from PIL import Image"
   ]
  },
  {
   "cell_type": "code",
   "execution_count": null,
   "metadata": {
    "collapsed": true
   },
   "outputs": [],
   "source": []
  },
  {
   "cell_type": "code",
   "execution_count": 7,
   "metadata": {
    "collapsed": false
   },
   "outputs": [],
   "source": [
    "def displayImage(image):\n",
    "    img=np.ascontiguousarray(image.transpose(1,2,0))\n",
    "    img = Image.fromarray(img, 'RGB')\n",
    "    plt.imshow(img)\n",
    "    plt.show()"
   ]
  },
  {
   "cell_type": "code",
   "execution_count": null,
   "metadata": {
    "collapsed": true
   },
   "outputs": [],
   "source": []
  },
  {
   "cell_type": "code",
   "execution_count": 8,
   "metadata": {
    "collapsed": false
   },
   "outputs": [
    {
     "data": {
      "image/png": "[encoded data removed]",
      "text/plain": [
       "<matplotlib.figure.Figure at 0xf88cc50>"
      ]
     },
     "metadata": {},
     "output_type": "display_data"
    }
   ],
   "source": [
    "displayImage(x_train[12])"
   ]
  },
  {
   "cell_type": "code",
   "execution_count": 10,
   "metadata": {
    "collapsed": true
   },
   "outputs": [],
   "source": [
    "net = NeuralNet(\n",
    "    layers=[('input', layers.InputLayer),\n",
    "            ('conv2d1', layers.Conv2DLayer),\n",
    "            ('maxpool1', layers.MaxPool2DLayer),\n",
    "            ('conv2d2', layers.Conv2DLayer),\n",
    "            ('maxpool2', layers.MaxPool2DLayer),\n",
    "            ('dense', layers.DenseLayer),\n",
    "            ('output', layers.DenseLayer),\n",
    "            ],\n",
    "    input_shape=(None, 3, 32, 32),\n",
    "    conv2d1_num_filters=20,\n",
    "    conv2d1_filter_size=(5, 5),\n",
    "    conv2d1_stride=(1, 1),\n",
    "    conv2d1_pad=(2, 2),\n",
    "    conv2d1_nonlinearity=lasagne.nonlinearities.rectify,\n",
    "    maxpool1_pool_size=(2, 2),\n",
    "    conv2d2_num_filters=20,\n",
    "    conv2d2_filter_size=(5, 5),\n",
    "    conv2d2_stride=(1, 1),\n",
    "    conv2d2_pad=(2, 2),\n",
    "    conv2d2_nonlinearity=lasagne.nonlinearities.rectify,\n",
    "    maxpool2_pool_size=(2, 2),\n",
    "    dense_num_units=1000,\n",
    "    dense_nonlinearity=lasagne.nonlinearities.rectify,\n",
    "    output_nonlinearity=lasagne.nonlinearities.softmax,\n",
    "    output_num_units=10,\n",
    "    update=nesterov_momentum,\n",
    "    update_momentum=0.9,\n",
    "    update_learning_rate=0.0001,\n",
    "    max_epochs=100,\n",
    "    verbose=True\n",
    ")\n"
   ]
  },
  {
   "cell_type": "code",
   "execution_count": null,
   "metadata": {
    "collapsed": true
   },
   "outputs": [],
   "source": []
  },
  {
   "cell_type": "code",
   "execution_count": null,
   "metadata": {
    "collapsed": true
   },
   "outputs": [],
   "source": []
  },
  {
   "cell_type": "code",
   "execution_count": 11,
   "metadata": {
    "collapsed": false
   },
   "outputs": [
    {
     "name": "stdout",
     "output_type": "stream",
     "text": [
      "# Neural Network with 1302550 learnable parameters\n",
      "\n",
      "## Layer information\n",
      "\n",
      "  #  name      size\n",
      "---  --------  --------\n",
      "  0  input     3x32x32\n",
      "  1  conv2d1   20x32x32\n",
      "  2  maxpool1  20x16x16\n",
      "  3  conv2d2   20x16x16\n",
      "  4  maxpool2  20x8x8\n",
      "  5  dense     1000\n",
      "  6  output    10\n",
      "\n",
      "  epoch    train loss    valid loss    train/val    valid acc  dur\n",
      "-------  ------------  ------------  -----------  -----------  ------\n",
      "      1       \u001b[36m2.85737\u001b[0m       \u001b[32m2.14781\u001b[0m      1.33037      0.20609  79.36s\n",
      "      2       \u001b[36m2.03710\u001b[0m       \u001b[32m1.96962\u001b[0m      1.03426      0.28550  79.31s\n",
      "      3       \u001b[36m1.91159\u001b[0m       \u001b[32m1.87064\u001b[0m      1.02189      0.32763  81.07s\n",
      "      4       \u001b[36m1.82581\u001b[0m       \u001b[32m1.78996\u001b[0m      1.02003      0.36234  76.92s\n",
      "      5       \u001b[36m1.74666\u001b[0m       \u001b[32m1.71598\u001b[0m      1.01788      0.39092  79.13s\n",
      "      6       \u001b[36m1.68110\u001b[0m       \u001b[32m1.66831\u001b[0m      1.00767      0.40220  77.03s\n",
      "      7       \u001b[36m1.63275\u001b[0m       \u001b[32m1.63541\u001b[0m      0.99837      0.41505  78.82s\n",
      "      8       \u001b[36m1.59409\u001b[0m       \u001b[32m1.60494\u001b[0m      0.99324      0.42741  78.65s\n",
      "      9       \u001b[36m1.56202\u001b[0m       \u001b[32m1.57816\u001b[0m      0.98978      0.43671  80.44s\n",
      "     10       \u001b[36m1.53358\u001b[0m       \u001b[32m1.55988\u001b[0m      0.98314      0.44689  77.88s\n",
      "     11       \u001b[36m1.50912\u001b[0m       \u001b[32m1.54123\u001b[0m      0.97917      0.45550  76.37s\n",
      "     12       \u001b[36m1.48709\u001b[0m       \u001b[32m1.52498\u001b[0m      0.97516      0.46015  78.56s\n",
      "     13       \u001b[36m1.46658\u001b[0m       \u001b[32m1.51181\u001b[0m      0.97009      0.46410  77.46s\n",
      "     14       \u001b[36m1.44898\u001b[0m       \u001b[32m1.49720\u001b[0m      0.96779      0.47201  76.93s\n",
      "     15       \u001b[36m1.43258\u001b[0m       \u001b[32m1.48446\u001b[0m      0.96505      0.47379  78.17s\n",
      "     16       \u001b[36m1.41715\u001b[0m       \u001b[32m1.47412\u001b[0m      0.96136      0.47983  80.36s\n",
      "     17       \u001b[36m1.40247\u001b[0m       \u001b[32m1.46398\u001b[0m      0.95799      0.48576  75.43s\n",
      "     18       \u001b[36m1.38865\u001b[0m       \u001b[32m1.45421\u001b[0m      0.95492      0.48853  80.85s\n",
      "     19       \u001b[36m1.37401\u001b[0m       \u001b[32m1.45390\u001b[0m      0.94505      0.48803  78.45s\n",
      "     20       \u001b[36m1.36127\u001b[0m       \u001b[32m1.44223\u001b[0m      0.94386      0.49209  78.38s\n",
      "     21       \u001b[36m1.34871\u001b[0m       \u001b[32m1.43313\u001b[0m      0.94109      0.49456  79.47s\n",
      "     22       \u001b[36m1.33624\u001b[0m       \u001b[32m1.42777\u001b[0m      0.93589      0.49535  79.52s\n",
      "     23       \u001b[36m1.32430\u001b[0m       \u001b[32m1.42024\u001b[0m      0.93245      0.49980  77.25s\n",
      "     24       \u001b[36m1.31305\u001b[0m       \u001b[32m1.41580\u001b[0m      0.92743      0.50267  78.08s\n",
      "     25       \u001b[36m1.30193\u001b[0m       \u001b[32m1.41094\u001b[0m      0.92274      0.50425  78.22s\n",
      "     26       \u001b[36m1.29115\u001b[0m       \u001b[32m1.40552\u001b[0m      0.91863      0.50781  80.40s\n",
      "     27       \u001b[36m1.28045\u001b[0m       \u001b[32m1.40000\u001b[0m      0.91461      0.50900  78.87s\n",
      "     28       \u001b[36m1.27077\u001b[0m       \u001b[32m1.39952\u001b[0m      0.90801      0.51088  77.20s\n",
      "     29       \u001b[36m1.26049\u001b[0m       \u001b[32m1.39936\u001b[0m      0.90076      0.50831  77.09s\n",
      "     30       \u001b[36m1.25113\u001b[0m       \u001b[32m1.39632\u001b[0m      0.89602      0.51157  79.80s\n",
      "     31       \u001b[36m1.24130\u001b[0m       \u001b[32m1.39225\u001b[0m      0.89158      0.51454  79.59s\n",
      "     32       \u001b[36m1.23220\u001b[0m       \u001b[32m1.38919\u001b[0m      0.88700      0.51493  79.64s\n",
      "     33       \u001b[36m1.22306\u001b[0m       \u001b[32m1.38756\u001b[0m      0.88145      0.51622  77.59s\n",
      "     34       \u001b[36m1.21419\u001b[0m       \u001b[32m1.38423\u001b[0m      0.87716      0.51632  79.57s\n",
      "     35       \u001b[36m1.20517\u001b[0m       \u001b[32m1.38226\u001b[0m      0.87188      0.51375  80.87s\n",
      "     36       \u001b[36m1.19685\u001b[0m       \u001b[32m1.38180\u001b[0m      0.86615      0.51632  78.54s\n",
      "     37       \u001b[36m1.18799\u001b[0m       \u001b[32m1.37918\u001b[0m      0.86138      0.52166  19461.98s\n",
      "     38       \u001b[36m1.17924\u001b[0m       \u001b[32m1.37722\u001b[0m      0.85625      0.52176  74.76s\n",
      "     39       \u001b[36m1.17080\u001b[0m       1.37842      0.84938      0.52047  80.38s\n",
      "     40       \u001b[36m1.16252\u001b[0m       1.37802      0.84361      0.52136  79.17s\n",
      "     41       \u001b[36m1.15417\u001b[0m       \u001b[32m1.37627\u001b[0m      0.83862      0.52225  80.93s\n",
      "     42       \u001b[36m1.14600\u001b[0m       1.37659      0.83249      0.52314  81.16s\n",
      "     43       \u001b[36m1.13757\u001b[0m       1.37747      0.82584      0.52413  81.42s\n",
      "     44       \u001b[36m1.12929\u001b[0m       1.37759      0.81976      0.52611  80.09s\n",
      "     45       \u001b[36m1.12083\u001b[0m       1.37757      0.81363      0.52680  79.11s\n",
      "     46       \u001b[36m1.11282\u001b[0m       1.37883      0.80708      0.52571  79.51s\n",
      "     47       \u001b[36m1.10465\u001b[0m       1.37810      0.80157      0.52858  78.97s\n",
      "     48       \u001b[36m1.09639\u001b[0m       1.37936      0.79485      0.52947  78.97s\n",
      "     49       \u001b[36m1.08811\u001b[0m       1.37795      0.78966      0.53224  80.02s\n",
      "     50       \u001b[36m1.07963\u001b[0m       1.38113      0.78170      0.53076  81.12s\n",
      "     51       \u001b[36m1.07136\u001b[0m       1.38352      0.77437      0.53006  82.53s\n",
      "     52       \u001b[36m1.06285\u001b[0m       1.38428      0.76780      0.53036  81.11s\n",
      "     53       \u001b[36m1.05451\u001b[0m       1.38773      0.75988      0.53174  79.82s\n",
      "     54       \u001b[36m1.04609\u001b[0m       1.39037      0.75238      0.53155  79.41s\n",
      "     55       \u001b[36m1.03787\u001b[0m       1.39029      0.74652      0.53293  81.64s\n",
      "     56       \u001b[36m1.02941\u001b[0m       1.39204      0.73950      0.53194  80.75s\n",
      "     57       \u001b[36m1.02095\u001b[0m       1.39322      0.73280      0.53451  80.49s\n",
      "     58       \u001b[36m1.01238\u001b[0m       1.39633      0.72503      0.53422  80.23s\n",
      "     59       \u001b[36m1.00380\u001b[0m       1.39909      0.71747      0.53501  80.36s\n",
      "     60       \u001b[36m0.99540\u001b[0m       1.40293      0.70952      0.53441  80.55s\n",
      "     61       \u001b[36m0.98703\u001b[0m       1.40679      0.70161      0.53402  80.91s\n",
      "     62       \u001b[36m0.97848\u001b[0m       1.41082      0.69355      0.53481  80.94s\n",
      "     63       \u001b[36m0.97003\u001b[0m       1.41629      0.68491      0.53501  74.50s\n",
      "     64       \u001b[36m0.96160\u001b[0m       1.41930      0.67752      0.53343  78.01s\n",
      "     65       \u001b[36m0.95299\u001b[0m       1.42054      0.67086      0.53382  80.60s\n",
      "     66       \u001b[36m0.94435\u001b[0m       1.42541      0.66251      0.53491  80.32s\n",
      "     67       \u001b[36m0.93522\u001b[0m       1.43076      0.65365      0.53521  80.21s\n",
      "     68       \u001b[36m0.92642\u001b[0m       1.43397      0.64605      0.53659  81.06s\n",
      "     69       \u001b[36m0.91749\u001b[0m       1.43957      0.63734      0.53639  80.08s\n",
      "     70       \u001b[36m0.90863\u001b[0m       1.44560      0.62855      0.53708  80.26s\n",
      "     71       \u001b[36m0.89989\u001b[0m       1.45102      0.62018      0.53728  80.16s\n",
      "     72       \u001b[36m0.89078\u001b[0m       1.45566      0.61194      0.53530  79.44s\n",
      "     73       \u001b[36m0.88169\u001b[0m       1.46467      0.60198      0.53422  77.89s\n",
      "     74       \u001b[36m0.87250\u001b[0m       1.46823      0.59425      0.53313  78.00s\n",
      "     75       \u001b[36m0.86353\u001b[0m       1.47364      0.58598      0.53343  79.66s\n",
      "     76       \u001b[36m0.85422\u001b[0m       1.47935      0.57743      0.53293  77.71s\n",
      "     77       \u001b[36m0.84491\u001b[0m       1.48584      0.56864      0.53273  80.08s\n",
      "     78       \u001b[36m0.83563\u001b[0m       1.49463      0.55909      0.53224  79.46s\n",
      "     79       \u001b[36m0.82646\u001b[0m       1.50409      0.54947      0.53155  80.51s\n",
      "     80       \u001b[36m0.81709\u001b[0m       1.51284      0.54010      0.53174  80.16s\n",
      "     81       \u001b[36m0.80755\u001b[0m       1.52325      0.53015      0.53184  77.28s\n",
      "     82       \u001b[36m0.79819\u001b[0m       1.53346      0.52052      0.53165  76.07s\n",
      "     83       \u001b[36m0.78876\u001b[0m       1.54470      0.51062      0.53214  78.51s\n",
      "     84       \u001b[36m0.77943\u001b[0m       1.55518      0.50119      0.53026  78.51s\n",
      "     85       \u001b[36m0.76984\u001b[0m       1.56545      0.49177      0.52878  1182.03s\n",
      "     86       \u001b[36m0.76035\u001b[0m       1.57654      0.48229      0.52868  75.03s\n",
      "     87       \u001b[36m0.75062\u001b[0m       1.58963      0.47220      0.52809  81.06s\n",
      "     88       \u001b[36m0.74082\u001b[0m       1.60296      0.46216      0.52749  79.42s\n",
      "     89       \u001b[36m0.73106\u001b[0m       1.61446      0.45282      0.52690  80.52s\n",
      "     90       \u001b[36m0.72111\u001b[0m       1.62978      0.44246      0.52660  80.60s\n",
      "     91       \u001b[36m0.71117\u001b[0m       1.64611      0.43203      0.52532  79.69s\n",
      "     92       \u001b[36m0.70107\u001b[0m       1.66395      0.42133      0.52314  80.42s\n",
      "     93       \u001b[36m0.69104\u001b[0m       1.67949      0.41146      0.52334  80.26s\n",
      "     94       \u001b[36m0.68076\u001b[0m       1.69772      0.40098      0.52334  79.83s\n",
      "     95       \u001b[36m0.67067\u001b[0m       1.71213      0.39172      0.52354  80.54s\n",
      "     96       \u001b[36m0.66031\u001b[0m       1.73199      0.38125      0.52146  80.49s\n",
      "     97       \u001b[36m0.65018\u001b[0m       1.75153      0.37121      0.52037  80.02s\n",
      "     98       \u001b[36m0.63997\u001b[0m       1.77286      0.36098      0.51899  80.85s\n",
      "     99       \u001b[36m0.62950\u001b[0m       1.79375      0.35094      0.51978  77.84s\n",
      "    100       \u001b[36m0.61908\u001b[0m       1.81325      0.34142      0.51958  76.35s\n",
      "             precision    recall  f1-score   support\n",
      "\n",
      "          0       0.67      0.53      0.59      1000\n",
      "          1       0.61      0.68      0.64      1000\n",
      "          2       0.42      0.41      0.41      1000\n",
      "          3       0.31      0.50      0.38      1000\n",
      "          4       0.46      0.43      0.44      1000\n",
      "          5       0.38      0.45      0.41      1000\n",
      "          6       0.64      0.54      0.58      1000\n",
      "          7       0.59      0.52      0.55      1000\n",
      "          8       0.72      0.64      0.68      1000\n",
      "          9       0.64      0.51      0.56      1000\n",
      "\n",
      "avg / total       0.54      0.52      0.53     10000\n",
      "\n",
      "0.5197\n"
     ]
    }
   ],
   "source": [
    "network = net.fit(x_train, y_train)\n",
    "predictions = network.predict(x_test)\n",
    "\n",
    "print classification_report(y_test, predictions)\n",
    "print accuracy_score(y_test, predictions)"
   ]
  },
  {
   "cell_type": "code",
   "execution_count": 21,
   "metadata": {
    "collapsed": false
   },
   "outputs": [
    {
     "data": {
      "image/png": "[encoded data removed]",
      "text/plain": [
       "<matplotlib.figure.Figure at 0x2e7487b8>"
      ]
     },
     "metadata": {},
     "output_type": "display_data"
    }
   ],
   "source": [
    "train_loss = np.array([i[\"train_loss\"] for i in net.train_history_])\n",
    "valid_loss = np.array([i[\"valid_loss\"] for i in net.train_history_])\n",
    "plt.plot(train_loss, linewidth=3, label=\"train\")\n",
    "plt.plot(valid_loss, linewidth=3, label=\"valid\")\n",
    "plt.grid()\n",
    "plt.legend()\n",
    "plt.title('CIFAR 10 Dataset Training')\n",
    "plt.xlabel(\"epoch\")\n",
    "plt.ylabel(\"loss\")\n",
    "plt.ylim(1e-1, 1e1)\n",
    "plt.yscale(\"log\")\n",
    "plt.show()"
   ]
  },
  {
   "cell_type": "code",
   "execution_count": null,
   "metadata": {
    "collapsed": true
   },
   "outputs": [],
   "source": []
  },
  {
   "cell_type": "code",
   "execution_count": null,
   "metadata": {
    "collapsed": true
   },
   "outputs": [],
   "source": []
  },
  {
   "cell_type": "code",
   "execution_count": null,
   "metadata": {
    "collapsed": true
   },
   "outputs": [],
   "source": []
  },
  {
   "cell_type": "code",
   "execution_count": 18,
   "metadata": {
    "collapsed": false
   },
   "outputs": [
    {
     "data": {
      "text/plain": [
       "array([ 2.85737109,  2.03709531,  1.91159141,  1.82580996,  1.74665928,\n",
       "        1.6811024 ,  1.63275015,  1.5940882 ,  1.56202435,  1.53357708,\n",
       "        1.5091207 ,  1.48709321,  1.46658492,  1.4489758 ,  1.43257678,\n",
       "        1.41715264,  1.40246987,  1.38864851,  1.37400818,  1.3612653 ,\n",
       "        1.34870684,  1.33623683,  1.32430363,  1.31304955,  1.30193269,\n",
       "        1.29114592,  1.28045285,  1.27077162,  1.26049411,  1.25113332,\n",
       "        1.24130046,  1.2322042 ,  1.22306406,  1.2141875 ,  1.20517266,\n",
       "        1.19684863,  1.18799412,  1.17924345,  1.17080021,  1.16251922,\n",
       "        1.15417266,  1.14599741,  1.13757014,  1.12929249,  1.12083483,\n",
       "        1.11281812,  1.10464728,  1.09639382,  1.08811069,  1.0796324 ,\n",
       "        1.07135808,  1.06284702,  1.05450559,  1.04608989,  1.03787303,\n",
       "        1.02941418,  1.02094984,  1.01238286,  1.00380063,  0.99540305,\n",
       "        0.98702508,  0.97847682,  0.97002774,  0.96160072,  0.95298702,\n",
       "        0.94435269,  0.93522161,  0.92641693,  0.9174946 ,  0.90862882,\n",
       "        0.89989007,  0.89078081,  0.88169318,  0.87250012,  0.86352986,\n",
       "        0.85421813,  0.84490967,  0.83563495,  0.82645655,  0.81709051,\n",
       "        0.80754983,  0.79819208,  0.78875816,  0.77943397,  0.76984006,\n",
       "        0.76035094,  0.75061578,  0.74081731,  0.7310558 ,  0.72110617,\n",
       "        0.71117079,  0.70107055,  0.69103646,  0.68075639,  0.67067236,\n",
       "        0.66031462,  0.65018356,  0.63996911,  0.6294952 ,  0.6190815 ], dtype=float32)"
      ]
     },
     "execution_count": 18,
     "metadata": {},
     "output_type": "execute_result"
    }
   ],
   "source": [
    "train_loss"
   ]
  },
  {
   "cell_type": "code",
   "execution_count": null,
   "metadata": {
    "collapsed": true
   },
   "outputs": [],
   "source": []
  },
  {
   "cell_type": "code",
   "execution_count": null,
   "metadata": {
    "collapsed": true
   },
   "outputs": [],
   "source": []
  },
  {
   "cell_type": "code",
   "execution_count": null,
   "metadata": {
    "collapsed": true
   },
   "outputs": [],
   "source": []
  },
  {
   "cell_type": "code",
   "execution_count": null,
   "metadata": {
    "collapsed": true
   },
   "outputs": [],
   "source": []
  },
  {
   "cell_type": "code",
   "execution_count": null,
   "metadata": {
    "collapsed": true
   },
   "outputs": [],
   "source": []
  },
  {
   "cell_type": "code",
   "execution_count": null,
   "metadata": {
    "collapsed": true
   },
   "outputs": [],
   "source": []
  },
  {
   "cell_type": "code",
   "execution_count": null,
   "metadata": {
    "collapsed": true
   },
   "outputs": [],
   "source": []
  },
  {
   "cell_type": "code",
   "execution_count": 42,
   "metadata": {
    "collapsed": false
   },
   "outputs": [
    {
     "ename": "UnboundLocalError",
     "evalue": "local variable 'img' referenced before assignment",
     "output_type": "error",
     "traceback": [
      "\u001b[1;31m---------------------------------------------------------------------------\u001b[0m",
      "\u001b[1;31mUnboundLocalError\u001b[0m                         Traceback (most recent call last)",
      "\u001b[1;32m<ipython-input-42-e1f61e0fee3b>\u001b[0m in \u001b[0;36m<module>\u001b[1;34m()\u001b[0m\n\u001b[1;32m----> 1\u001b[1;33m \u001b[0mdisplayImage\u001b[0m\u001b[1;33m(\u001b[0m\u001b[0mx_train\u001b[0m\u001b[1;33m[\u001b[0m\u001b[1;36m112\u001b[0m\u001b[1;33m]\u001b[0m\u001b[1;33m)\u001b[0m\u001b[1;33m\u001b[0m\u001b[0m\n\u001b[0m",
      "\u001b[1;32m<ipython-input-41-e1cca4a6731e>\u001b[0m in \u001b[0;36mdisplayImage\u001b[1;34m(image)\u001b[0m\n\u001b[0;32m      1\u001b[0m \u001b[1;32mdef\u001b[0m \u001b[0mdisplayImage\u001b[0m\u001b[1;33m(\u001b[0m\u001b[0mimage\u001b[0m\u001b[1;33m)\u001b[0m\u001b[1;33m:\u001b[0m\u001b[1;33m\u001b[0m\u001b[0m\n\u001b[0;32m      2\u001b[0m \u001b[1;33m\u001b[0m\u001b[0m\n\u001b[1;32m----> 3\u001b[1;33m     \u001b[0mimg\u001b[0m \u001b[1;33m=\u001b[0m \u001b[0mImage\u001b[0m\u001b[1;33m.\u001b[0m\u001b[0mfromarray\u001b[0m\u001b[1;33m(\u001b[0m\u001b[0mimg\u001b[0m\u001b[1;33m,\u001b[0m \u001b[1;34m'RGB'\u001b[0m\u001b[1;33m)\u001b[0m\u001b[1;33m\u001b[0m\u001b[0m\n\u001b[0m\u001b[0;32m      4\u001b[0m     \u001b[0mplt\u001b[0m\u001b[1;33m.\u001b[0m\u001b[0mimshow\u001b[0m\u001b[1;33m(\u001b[0m\u001b[0mimg\u001b[0m\u001b[1;33m)\u001b[0m\u001b[1;33m\u001b[0m\u001b[0m\n\u001b[0;32m      5\u001b[0m     \u001b[0mplt\u001b[0m\u001b[1;33m.\u001b[0m\u001b[0mshow\u001b[0m\u001b[1;33m(\u001b[0m\u001b[1;33m)\u001b[0m\u001b[1;33m\u001b[0m\u001b[0m\n",
      "\u001b[1;31mUnboundLocalError\u001b[0m: local variable 'img' referenced before assignment"
     ]
    }
   ],
   "source": []
  },
  {
   "cell_type": "code",
   "execution_count": null,
   "metadata": {
    "collapsed": true
   },
   "outputs": [],
   "source": []
  },
  {
   "cell_type": "code",
   "execution_count": null,
   "metadata": {
    "collapsed": true
   },
   "outputs": [],
   "source": []
  },
  {
   "cell_type": "code",
   "execution_count": null,
   "metadata": {
    "collapsed": true
   },
   "outputs": [],
   "source": []
  },
  {
   "cell_type": "code",
   "execution_count": null,
   "metadata": {
    "collapsed": true
   },
   "outputs": [],
   "source": []
  },
  {
   "cell_type": "code",
   "execution_count": null,
   "metadata": {
    "collapsed": true
   },
   "outputs": [],
   "source": []
  },
  {
   "cell_type": "code",
   "execution_count": null,
   "metadata": {
    "collapsed": true
   },
   "outputs": [],
   "source": []
  },
  {
   "cell_type": "code",
   "execution_count": null,
   "metadata": {
    "collapsed": true
   },
   "outputs": [],
   "source": []
  },
  {
   "cell_type": "code",
   "execution_count": 25,
   "metadata": {
    "collapsed": false
   },
   "outputs": [],
   "source": [
    "from PIL import Image"
   ]
  },
  {
   "cell_type": "code",
   "execution_count": 29,
   "metadata": {
    "collapsed": true
   },
   "outputs": [],
   "source": [
    "img = Image.fromarray(image, 'RGB')"
   ]
  },
  {
   "cell_type": "code",
   "execution_count": 30,
   "metadata": {
    "collapsed": true
   },
   "outputs": [],
   "source": [
    "image2=image\n"
   ]
  },
  {
   "cell_type": "code",
   "execution_count": 31,
   "metadata": {
    "collapsed": false
   },
   "outputs": [
    {
     "data": {
      "text/plain": [
       "(32L, 32L, 3L)"
      ]
     },
     "execution_count": 31,
     "metadata": {},
     "output_type": "execute_result"
    }
   ],
   "source": [
    "image2.shape"
   ]
  },
  {
   "cell_type": "code",
   "execution_count": 32,
   "metadata": {
    "collapsed": true
   },
   "outputs": [],
   "source": [
    "img = Image.fromarray(image2, 'RGB')"
   ]
  },
  {
   "cell_type": "code",
   "execution_count": null,
   "metadata": {
    "collapsed": true
   },
   "outputs": [],
   "source": []
  },
  {
   "cell_type": "code",
   "execution_count": 33,
   "metadata": {
    "collapsed": false
   },
   "outputs": [
    {
     "data": {
      "image/png": "[encoded data removed]",
      "text/plain": [
       "<matplotlib.figure.Figure at 0x2926e4e0>"
      ]
     },
     "metadata": {},
     "output_type": "display_data"
    }
   ],
   "source": [
    "plt.imshow(img)\n",
    "plt.show()"
   ]
  },
  {
   "cell_type": "code",
   "execution_count": null,
   "metadata": {
    "collapsed": true
   },
   "outputs": [],
   "source": []
  },
  {
   "cell_type": "code",
   "execution_count": null,
   "metadata": {
    "collapsed": true
   },
   "outputs": [],
   "source": []
  },
  {
   "cell_type": "code",
   "execution_count": null,
   "metadata": {
    "collapsed": true
   },
   "outputs": [],
   "source": []
  },
  {
   "cell_type": "code",
   "execution_count": null,
   "metadata": {
    "collapsed": true
   },
   "outputs": [],
   "source": []
  },
  {
   "cell_type": "code",
   "execution_count": null,
   "metadata": {
    "collapsed": true
   },
   "outputs": [],
   "source": []
  },
  {
   "cell_type": "code",
   "execution_count": null,
   "metadata": {
    "collapsed": true
   },
   "outputs": [],
   "source": []
  },
  {
   "cell_type": "code",
   "execution_count": null,
   "metadata": {
    "collapsed": true
   },
   "outputs": [],
   "source": []
  },
  {
   "cell_type": "code",
   "execution_count": null,
   "metadata": {
    "collapsed": true
   },
   "outputs": [],
   "source": []
  },
  {
   "cell_type": "code",
   "execution_count": null,
   "metadata": {
    "collapsed": true
   },
   "outputs": [],
   "source": []
  },
  {
   "cell_type": "code",
   "execution_count": null,
   "metadata": {
    "collapsed": true
   },
   "outputs": [],
   "source": []
  },
  {
   "cell_type": "code",
   "execution_count": null,
   "metadata": {
    "collapsed": true
   },
   "outputs": [],
   "source": []
  },
  {
   "cell_type": "code",
   "execution_count": null,
   "metadata": {
    "collapsed": true
   },
   "outputs": [],
   "source": []
  }
 ],
 "metadata": {
  "kernelspec": {
   "display_name": "Python 2",
   "language": "python",
   "name": "python2"
  },
  "language_info": {
   "codemirror_mode": {
    "name": "ipython",
    "version": 2
   },
   "file_extension": ".py",
   "mimetype": "text/x-python",
   "name": "python",
   "nbconvert_exporter": "python",
   "pygments_lexer": "ipython2",
   "version": "2.7.8"
  }
 },
 "nbformat": 4,
 "nbformat_minor": 0
}
